{
 "cells": [
  {
   "cell_type": "markdown",
   "id": "53827d11",
   "metadata": {},
   "source": [
    "# Steam Platformu İçin Öneri Sistemi Geliştirmek"
   ]
  },
  {
   "cell_type": "markdown",
   "id": "bcc26f19",
   "metadata": {},
   "source": [
    "#### Gerekili Kütüphanelerin İnport Edilmesi"
   ]
  },
  {
   "cell_type": "code",
   "execution_count": 1,
   "id": "9de7b23d",
   "metadata": {},
   "outputs": [],
   "source": [
    "import numpy as np\n",
    "import pandas as pd\n",
    "import matplotlib.pyplot as plt\n",
    "from scipy import stats\n",
    "\n",
    "import time\n",
    "from datetime import datetime\n",
    "\n",
    "pd.set_option(\"display.max_rows\", None, \"display.max_columns\", None) #Çıktı satırlarının tümünün gösterilmesini sağlar "
   ]
  },
  {
   "cell_type": "code",
   "execution_count": 2,
   "id": "0c6dd12c",
   "metadata": {},
   "outputs": [],
   "source": [
    "pStart = datetime.now().strftime('%H:%M:%S') "
   ]
  },
  {
   "cell_type": "markdown",
   "id": "82d9af45",
   "metadata": {},
   "source": [
    "#### User to İndex Fonksiyonu"
   ]
  },
  {
   "cell_type": "code",
   "execution_count": 3,
   "id": "a2e1259c",
   "metadata": {},
   "outputs": [],
   "source": [
    "#User ID listesini İndex listesine dönüştürmek için forksiyon\n",
    "def index_list (user_id):\n",
    "    index_list = []\n",
    "    for user in user_id:\n",
    "        index_keep = df.index[df.user == user ]\n",
    "        index_list.extend(index_keep)\n",
    "    return index_list"
   ]
  },
  {
   "cell_type": "markdown",
   "id": "358e728f",
   "metadata": {},
   "source": [
    "#### Kullanıcı statisticsleri Fonksiyonu"
   ]
  },
  {
   "cell_type": "code",
   "execution_count": 4,
   "id": "8b6f387e",
   "metadata": {},
   "outputs": [],
   "source": [
    "def UserStatistics (df):\n",
    "    \"\"\"\n",
    "    Oluşturduğumuz user_statistics DataFrame'ine kullancıların statisticslerini depoluyoruz\n",
    "    \"\"\"\n",
    "    user_statistics = pd.DataFrame(columns = [\"zero_len\", \n",
    "                                \"played_len\", \n",
    "                                \"played_medyan\", \n",
    "                                \"played_mean\", \n",
    "                                \"played_max\", \n",
    "                                \"played_min\",\n",
    "                                \"user_id\"])\n",
    "    for user in df.user.unique():\n",
    "        keep = df.playtime_forever[df.user == user ]\n",
    "        zero_len_keep = len(keep [keep==0])\n",
    "        played_len_keep = len(keep [keep!=0])\n",
    "        played_medyan_keep = keep [keep!=0].median()\n",
    "        played_mean_keep = keep [keep!=0].mean()\n",
    "        played_max_keep = keep [keep!=0].max()\n",
    "        played_min_keep = keep [keep!=0].min()\n",
    "        \n",
    "        dictionary = {\"zero_len\": zero_len_keep, \n",
    "                      \"played_len\": played_len_keep, \n",
    "                      \"played_medyan\": played_medyan_keep, \n",
    "                      \"played_mean\": played_mean_keep, \n",
    "                      \"played_max\": played_max_keep, \n",
    "                      \"played_min\": played_min_keep,\n",
    "                      \"user_id\": user} \n",
    "        df1 = pd.DataFrame(dictionary,index=[0])\n",
    "        user_statistics = pd.concat([user_statistics,df1], axis=0,ignore_index=bool)\n",
    "    return user_statistics       "
   ]
  },
  {
   "cell_type": "markdown",
   "id": "f1705393",
   "metadata": {},
   "source": [
    "#### Veri Setinin Yüklenmesi"
   ]
  },
  {
   "cell_type": "code",
   "execution_count": 5,
   "id": "37bcb1e3",
   "metadata": {},
   "outputs": [],
   "source": [
    "df = pd.read_json('..\\SteamData\\SteamGameTime_raw.json')\n"
   ]
  },
  {
   "cell_type": "markdown",
   "id": "18e9260b",
   "metadata": {},
   "source": [
    "## Veri Setine İlk bakış"
   ]
  },
  {
   "cell_type": "code",
   "execution_count": 6,
   "id": "07cadc39",
   "metadata": {},
   "outputs": [
    {
     "output_type": "stream",
     "name": "stdout",
     "text": [
      "<class 'pandas.core.frame.DataFrame'>\nInt64Index: 3877976 entries, 0 to 3877975\nData columns (total 7 columns):\n #   Column                    Dtype  \n---  ------                    -----  \n 0   appid                     int64  \n 1   playtime_forever          int64  \n 2   playtime_windows_forever  int64  \n 3   playtime_mac_forever      int64  \n 4   playtime_linux_forever    int64  \n 5   user                      int64  \n 6   playtime_2weeks           float64\ndtypes: float64(1), int64(6)\nmemory usage: 236.7 MB\n"
     ]
    }
   ],
   "source": [
    "df.info()"
   ]
  },
  {
   "cell_type": "code",
   "execution_count": 7,
   "id": "817a73e5",
   "metadata": {},
   "outputs": [
    {
     "output_type": "execute_result",
     "data": {
      "text/plain": [
       "Index(['appid', 'playtime_forever', 'playtime_windows_forever',\n",
       "       'playtime_mac_forever', 'playtime_linux_forever', 'user',\n",
       "       'playtime_2weeks'],\n",
       "      dtype='object')"
      ]
     },
     "metadata": {},
     "execution_count": 7
    }
   ],
   "source": [
    "df.columns #Verinin değşkenleri"
   ]
  },
  {
   "cell_type": "code",
   "execution_count": 8,
   "id": "538a2cf1",
   "metadata": {},
   "outputs": [
    {
     "output_type": "execute_result",
     "data": {
      "text/plain": [
       "     appid  playtime_forever  playtime_windows_forever  playtime_mac_forever  \\\n",
       "0      620                76                        76                     0   \n",
       "1   261550              2885                      2885                     0   \n",
       "2   255710              1061                       642                     0   \n",
       "3   381210               498                       498                     0   \n",
       "4   289070               211                       211                     0   \n",
       "5      730                 0                         0                     0   \n",
       "6  1097150               158                       158                     0   \n",
       "7    55100                 0                         0                     0   \n",
       "8    55150                 0                         0                     0   \n",
       "9    67370                 0                         0                     0   \n",
       "\n",
       "   playtime_linux_forever               user  playtime_2weeks  \n",
       "0                       0  76561198258109920              NaN  \n",
       "1                       0  76561198258109920              NaN  \n",
       "2                       0  76561198258109920              NaN  \n",
       "3                       0  76561198258109920              NaN  \n",
       "4                       0  76561198258109920              NaN  \n",
       "5                       0  76561198258109920              NaN  \n",
       "6                       0  76561198258109920              NaN  \n",
       "7                       0  76561198820816240              NaN  \n",
       "8                       0  76561198820816240              NaN  \n",
       "9                       0  76561198820816240              NaN  "
      ],
      "text/html": "<div>\n<style scoped>\n    .dataframe tbody tr th:only-of-type {\n        vertical-align: middle;\n    }\n\n    .dataframe tbody tr th {\n        vertical-align: top;\n    }\n\n    .dataframe thead th {\n        text-align: right;\n    }\n</style>\n<table border=\"1\" class=\"dataframe\">\n  <thead>\n    <tr style=\"text-align: right;\">\n      <th></th>\n      <th>appid</th>\n      <th>playtime_forever</th>\n      <th>playtime_windows_forever</th>\n      <th>playtime_mac_forever</th>\n      <th>playtime_linux_forever</th>\n      <th>user</th>\n      <th>playtime_2weeks</th>\n    </tr>\n  </thead>\n  <tbody>\n    <tr>\n      <th>0</th>\n      <td>620</td>\n      <td>76</td>\n      <td>76</td>\n      <td>0</td>\n      <td>0</td>\n      <td>76561198258109920</td>\n      <td>NaN</td>\n    </tr>\n    <tr>\n      <th>1</th>\n      <td>261550</td>\n      <td>2885</td>\n      <td>2885</td>\n      <td>0</td>\n      <td>0</td>\n      <td>76561198258109920</td>\n      <td>NaN</td>\n    </tr>\n    <tr>\n      <th>2</th>\n      <td>255710</td>\n      <td>1061</td>\n      <td>642</td>\n      <td>0</td>\n      <td>0</td>\n      <td>76561198258109920</td>\n      <td>NaN</td>\n    </tr>\n    <tr>\n      <th>3</th>\n      <td>381210</td>\n      <td>498</td>\n      <td>498</td>\n      <td>0</td>\n      <td>0</td>\n      <td>76561198258109920</td>\n      <td>NaN</td>\n    </tr>\n    <tr>\n      <th>4</th>\n      <td>289070</td>\n      <td>211</td>\n      <td>211</td>\n      <td>0</td>\n      <td>0</td>\n      <td>76561198258109920</td>\n      <td>NaN</td>\n    </tr>\n    <tr>\n      <th>5</th>\n      <td>730</td>\n      <td>0</td>\n      <td>0</td>\n      <td>0</td>\n      <td>0</td>\n      <td>76561198258109920</td>\n      <td>NaN</td>\n    </tr>\n    <tr>\n      <th>6</th>\n      <td>1097150</td>\n      <td>158</td>\n      <td>158</td>\n      <td>0</td>\n      <td>0</td>\n      <td>76561198258109920</td>\n      <td>NaN</td>\n    </tr>\n    <tr>\n      <th>7</th>\n      <td>55100</td>\n      <td>0</td>\n      <td>0</td>\n      <td>0</td>\n      <td>0</td>\n      <td>76561198820816240</td>\n      <td>NaN</td>\n    </tr>\n    <tr>\n      <th>8</th>\n      <td>55150</td>\n      <td>0</td>\n      <td>0</td>\n      <td>0</td>\n      <td>0</td>\n      <td>76561198820816240</td>\n      <td>NaN</td>\n    </tr>\n    <tr>\n      <th>9</th>\n      <td>67370</td>\n      <td>0</td>\n      <td>0</td>\n      <td>0</td>\n      <td>0</td>\n      <td>76561198820816240</td>\n      <td>NaN</td>\n    </tr>\n  </tbody>\n</table>\n</div>"
     },
     "metadata": {},
     "execution_count": 8
    }
   ],
   "source": [
    "df.head(10) #Veriye genel bakış"
   ]
  },
  {
   "cell_type": "markdown",
   "id": "a41b60e9",
   "metadata": {},
   "source": [
    "Veri setinde 7 değişken bulunmakta. User ve Appid değişkenleri katagorik geri kalan değişkendel sürekli değişken.\n",
    "Değişken isimleri ve açıklamaları:\n",
    " * **appid**                     = Oyunun ID'si\n",
    " * **playtime_forever**          = Oyunun oynanma süresi (Dakika cinsinden)\n",
    " * **playtime_windows_forever**  = Oyunun Windows'ta oynanma süresi (Dakika cinsinden)\n",
    " * **playtime_mac_forever**      = Oyunun Mac'te oynanma süresi (Dakika cinsinden)\n",
    " * **playtime_linux_forever**    = Oyunun Linux'ta oynanma süresi (Dakika cinsinden)\n",
    " * **user**                      = Ounun sahibi olan kişinin ID'si\n",
    " * **playtime_2weeks**           = Oyunun son iki haftada oynanma süresi (Dakika cinsinden)"
   ]
  },
  {
   "cell_type": "code",
   "execution_count": 9,
   "id": "d6404466",
   "metadata": {},
   "outputs": [
    {
     "output_type": "stream",
     "name": "stdout",
     "text": [
      "Satır sayısı =  3877976\n",
      "Benzersiz kullanıcı sayısı =  21127\n",
      "Benzersiz oyun sayısı =  27107\n"
     ]
    }
   ],
   "source": [
    "print(\"Satır sayısı = \",len(df.user)) #Satır sayısı\n",
    "print(\"Benzersiz kullanıcı sayısı = \",len(df.user.unique())) #Benzersiz kullanıcı sayısı\n",
    "print(\"Benzersiz oyun sayısı = \",len(df.appid.unique()))"
   ]
  },
  {
   "cell_type": "markdown",
   "id": "74d7f095",
   "metadata": {},
   "source": [
    "## Veri Temizleme"
   ]
  },
  {
   "cell_type": "markdown",
   "id": "12366027",
   "metadata": {},
   "source": [
    "#### Tekrar Ediler Satırların Silinmesi."
   ]
  },
  {
   "cell_type": "markdown",
   "id": "172868cc",
   "metadata": {},
   "source": [
    "Veri Steam Api ile belirlikli aralıklar ile çekildiği için tekrar çekilen kullanıcıların temizlenmesi gerekmekte. "
   ]
  },
  {
   "cell_type": "code",
   "execution_count": 10,
   "id": "29c88185",
   "metadata": {},
   "outputs": [],
   "source": [
    "df = pd.read_json ('..\\SteamData\\SteamGameTime_raw.json') \n",
    "df_checkpoints = df.copy() #Kıyaslamak için checkpointsliyoruz\n",
    "df.drop_duplicates (keep = \"first\", inplace = True) #Tekrar eden satırlardan ilk olanı keepup geri kalanını siliyor"
   ]
  },
  {
   "cell_type": "code",
   "execution_count": 11,
   "id": "a4e184f5",
   "metadata": {},
   "outputs": [
    {
     "output_type": "stream",
     "name": "stdout",
     "text": [
      "*Satır sayısı checkpoints =  3877976\n",
      "*Satır sayısı =  3670344\n",
      " Silinen satır sayısı =  207632\n",
      "*Benzersiz kullanıcı sayısı checkpoints =  21127\n",
      "*Benzersiz kullanıcı sayısı =  21127\n",
      " Eksilen benzersiz kullanıcı sayısı =  0\n"
     ]
    }
   ],
   "source": [
    "print(\"*Satır sayısı checkpoints = \",len(df_checkpoints))\n",
    "print(\"*Satır sayısı = \",len(df))\n",
    "print(\" Silinen satır sayısı = \",len(df_checkpoints) - len(df))\n",
    "print(\"*Benzersiz kullanıcı sayısı checkpoints = \",len(df_checkpoints.user.unique()))\n",
    "print(\"*Benzersiz kullanıcı sayısı = \",len(df.user.unique()))\n",
    "print(\" Eksilen benzersiz kullanıcı sayısı = \",len(df_checkpoints.user.unique()) - len(df.user.unique()))"
   ]
  },
  {
   "cell_type": "markdown",
   "id": "500d4506",
   "metadata": {},
   "source": [
    "Veri setinde playtime_windows_forever , playtime_mac_forever, playtime_linux_forever değişkenlerinin toplamı playtime_forever değişkenini vermelidir. Fakat bir çok gözlemde bu değeri bulamadığımızdan dolayı verinin toplanma işleminde hatalar olduğunu var sayabiliriz."
   ]
  },
  {
   "cell_type": "markdown",
   "id": "4a7bff03",
   "metadata": {},
   "source": [
    "#### Kullanılamayan Sütunların Silinmesi."
   ]
  },
  {
   "cell_type": "code",
   "execution_count": 12,
   "id": "1a2b1011",
   "metadata": {},
   "outputs": [],
   "source": [
    "l = ['playtime_windows_forever','playtime_mac_forever','playtime_linux_forever'] #Sütunların silinmesi\n",
    "df = df.drop(l , axis = 1)\n",
    "df.to_json('..\\SteamData\\SteamGameTime_clear.json', index = bool ) #Veriyi yeni bir data fream olarak yazdırıyoruz."
   ]
  },
  {
   "cell_type": "code",
   "execution_count": 13,
   "id": "6fbeeb7d",
   "metadata": {},
   "outputs": [
    {
     "output_type": "execute_result",
     "data": {
      "text/plain": [
       "Index(['appid', 'playtime_forever', 'user', 'playtime_2weeks'], dtype='object')"
      ]
     },
     "metadata": {},
     "execution_count": 13
    }
   ],
   "source": [
    "df.columns"
   ]
  },
  {
   "cell_type": "code",
   "execution_count": 14,
   "id": "62e57a18",
   "metadata": {},
   "outputs": [
    {
     "output_type": "execute_result",
     "data": {
      "text/plain": [
       "     appid  playtime_forever               user  playtime_2weeks\n",
       "0      620                76  76561198258109920              NaN\n",
       "1   261550              2885  76561198258109920              NaN\n",
       "2   255710              1061  76561198258109920              NaN\n",
       "3   381210               498  76561198258109920              NaN\n",
       "4   289070               211  76561198258109920              NaN\n",
       "5      730                 0  76561198258109920              NaN\n",
       "6  1097150               158  76561198258109920              NaN\n",
       "7    55100                 0  76561198820816240              NaN\n",
       "8    55150                 0  76561198820816240              NaN\n",
       "9    67370                 0  76561198820816240              NaN"
      ],
      "text/html": "<div>\n<style scoped>\n    .dataframe tbody tr th:only-of-type {\n        vertical-align: middle;\n    }\n\n    .dataframe tbody tr th {\n        vertical-align: top;\n    }\n\n    .dataframe thead th {\n        text-align: right;\n    }\n</style>\n<table border=\"1\" class=\"dataframe\">\n  <thead>\n    <tr style=\"text-align: right;\">\n      <th></th>\n      <th>appid</th>\n      <th>playtime_forever</th>\n      <th>user</th>\n      <th>playtime_2weeks</th>\n    </tr>\n  </thead>\n  <tbody>\n    <tr>\n      <th>0</th>\n      <td>620</td>\n      <td>76</td>\n      <td>76561198258109920</td>\n      <td>NaN</td>\n    </tr>\n    <tr>\n      <th>1</th>\n      <td>261550</td>\n      <td>2885</td>\n      <td>76561198258109920</td>\n      <td>NaN</td>\n    </tr>\n    <tr>\n      <th>2</th>\n      <td>255710</td>\n      <td>1061</td>\n      <td>76561198258109920</td>\n      <td>NaN</td>\n    </tr>\n    <tr>\n      <th>3</th>\n      <td>381210</td>\n      <td>498</td>\n      <td>76561198258109920</td>\n      <td>NaN</td>\n    </tr>\n    <tr>\n      <th>4</th>\n      <td>289070</td>\n      <td>211</td>\n      <td>76561198258109920</td>\n      <td>NaN</td>\n    </tr>\n    <tr>\n      <th>5</th>\n      <td>730</td>\n      <td>0</td>\n      <td>76561198258109920</td>\n      <td>NaN</td>\n    </tr>\n    <tr>\n      <th>6</th>\n      <td>1097150</td>\n      <td>158</td>\n      <td>76561198258109920</td>\n      <td>NaN</td>\n    </tr>\n    <tr>\n      <th>7</th>\n      <td>55100</td>\n      <td>0</td>\n      <td>76561198820816240</td>\n      <td>NaN</td>\n    </tr>\n    <tr>\n      <th>8</th>\n      <td>55150</td>\n      <td>0</td>\n      <td>76561198820816240</td>\n      <td>NaN</td>\n    </tr>\n    <tr>\n      <th>9</th>\n      <td>67370</td>\n      <td>0</td>\n      <td>76561198820816240</td>\n      <td>NaN</td>\n    </tr>\n  </tbody>\n</table>\n</div>"
     },
     "metadata": {},
     "execution_count": 14
    }
   ],
   "source": [
    "df.head(10)"
   ]
  },
  {
   "cell_type": "markdown",
   "id": "b00caadf",
   "metadata": {},
   "source": [
    "#### Kulanıcı İstatistiklerinin İncelenmesi"
   ]
  },
  {
   "cell_type": "code",
   "execution_count": 15,
   "id": "4e348dbb",
   "metadata": {
    "tags": []
   },
   "outputs": [
    {
     "output_type": "error",
     "ename": "KeyboardInterrupt",
     "evalue": "",
     "traceback": [
      "\u001b[1;31m---------------------------------------------------------------------------\u001b[0m",
      "\u001b[1;31mKeyboardInterrupt\u001b[0m                         Traceback (most recent call last)",
      "\u001b[1;32m<ipython-input-15-92b9725db4ef>\u001b[0m in \u001b[0;36m<module>\u001b[1;34m\u001b[0m\n\u001b[1;32m----> 1\u001b[1;33m \u001b[0muser_statistics\u001b[0m \u001b[1;33m=\u001b[0m \u001b[0mUserStatistics\u001b[0m\u001b[1;33m(\u001b[0m\u001b[0mdf\u001b[0m\u001b[1;33m)\u001b[0m \u001b[1;31m#UserStatistics fonksiyonunu kullanarak df verisinin kullanıcı verilerini oluşturuyoruz\u001b[0m\u001b[1;33m\u001b[0m\u001b[1;33m\u001b[0m\u001b[0m\n\u001b[0m",
      "\u001b[1;32m<ipython-input-4-bc487be3d0b6>\u001b[0m in \u001b[0;36mUserStatistics\u001b[1;34m(df)\u001b[0m\n\u001b[0;32m     27\u001b[0m                       \"user_id\": user} \n\u001b[0;32m     28\u001b[0m         \u001b[0mdf1\u001b[0m \u001b[1;33m=\u001b[0m \u001b[0mpd\u001b[0m\u001b[1;33m.\u001b[0m\u001b[0mDataFrame\u001b[0m\u001b[1;33m(\u001b[0m\u001b[0mdictionary\u001b[0m\u001b[1;33m,\u001b[0m\u001b[0mindex\u001b[0m\u001b[1;33m=\u001b[0m\u001b[1;33m[\u001b[0m\u001b[1;36m0\u001b[0m\u001b[1;33m]\u001b[0m\u001b[1;33m)\u001b[0m\u001b[1;33m\u001b[0m\u001b[1;33m\u001b[0m\u001b[0m\n\u001b[1;32m---> 29\u001b[1;33m         \u001b[0muser_statistics\u001b[0m \u001b[1;33m=\u001b[0m \u001b[0mpd\u001b[0m\u001b[1;33m.\u001b[0m\u001b[0mconcat\u001b[0m\u001b[1;33m(\u001b[0m\u001b[1;33m[\u001b[0m\u001b[0muser_statistics\u001b[0m\u001b[1;33m,\u001b[0m\u001b[0mdf1\u001b[0m\u001b[1;33m]\u001b[0m\u001b[1;33m,\u001b[0m \u001b[0maxis\u001b[0m\u001b[1;33m=\u001b[0m\u001b[1;36m0\u001b[0m\u001b[1;33m,\u001b[0m\u001b[0mignore_index\u001b[0m\u001b[1;33m=\u001b[0m\u001b[0mbool\u001b[0m\u001b[1;33m)\u001b[0m\u001b[1;33m\u001b[0m\u001b[1;33m\u001b[0m\u001b[0m\n\u001b[0m\u001b[0;32m     30\u001b[0m     \u001b[1;32mreturn\u001b[0m \u001b[0muser_statistics\u001b[0m\u001b[1;33m\u001b[0m\u001b[1;33m\u001b[0m\u001b[0m\n",
      "\u001b[1;32m~\\anaconda3\\lib\\site-packages\\pandas\\core\\reshape\\concat.py\u001b[0m in \u001b[0;36mconcat\u001b[1;34m(objs, axis, join, ignore_index, keys, levels, names, verify_integrity, sort, copy)\u001b[0m\n\u001b[0;32m    283\u001b[0m     \u001b[0mValueError\u001b[0m\u001b[1;33m:\u001b[0m \u001b[0mIndexes\u001b[0m \u001b[0mhave\u001b[0m \u001b[0moverlapping\u001b[0m \u001b[0mvalues\u001b[0m\u001b[1;33m:\u001b[0m \u001b[1;33m[\u001b[0m\u001b[1;34m'a'\u001b[0m\u001b[1;33m]\u001b[0m\u001b[1;33m\u001b[0m\u001b[1;33m\u001b[0m\u001b[0m\n\u001b[0;32m    284\u001b[0m     \"\"\"\n\u001b[1;32m--> 285\u001b[1;33m     op = _Concatenator(\n\u001b[0m\u001b[0;32m    286\u001b[0m         \u001b[0mobjs\u001b[0m\u001b[1;33m,\u001b[0m\u001b[1;33m\u001b[0m\u001b[1;33m\u001b[0m\u001b[0m\n\u001b[0;32m    287\u001b[0m         \u001b[0maxis\u001b[0m\u001b[1;33m=\u001b[0m\u001b[0maxis\u001b[0m\u001b[1;33m,\u001b[0m\u001b[1;33m\u001b[0m\u001b[1;33m\u001b[0m\u001b[0m\n",
      "\u001b[1;32m~\\anaconda3\\lib\\site-packages\\pandas\\core\\reshape\\concat.py\u001b[0m in \u001b[0;36m__init__\u001b[1;34m(self, objs, axis, join, keys, levels, names, ignore_index, verify_integrity, copy, sort)\u001b[0m\n\u001b[0;32m    371\u001b[0m \u001b[1;33m\u001b[0m\u001b[0m\n\u001b[0;32m    372\u001b[0m             \u001b[1;31m# consolidate\u001b[0m\u001b[1;33m\u001b[0m\u001b[1;33m\u001b[0m\u001b[1;33m\u001b[0m\u001b[0m\n\u001b[1;32m--> 373\u001b[1;33m             \u001b[0mobj\u001b[0m\u001b[1;33m.\u001b[0m\u001b[0m_consolidate_inplace\u001b[0m\u001b[1;33m(\u001b[0m\u001b[1;33m)\u001b[0m\u001b[1;33m\u001b[0m\u001b[1;33m\u001b[0m\u001b[0m\n\u001b[0m\u001b[0;32m    374\u001b[0m             \u001b[0mndims\u001b[0m\u001b[1;33m.\u001b[0m\u001b[0madd\u001b[0m\u001b[1;33m(\u001b[0m\u001b[0mobj\u001b[0m\u001b[1;33m.\u001b[0m\u001b[0mndim\u001b[0m\u001b[1;33m)\u001b[0m\u001b[1;33m\u001b[0m\u001b[1;33m\u001b[0m\u001b[0m\n\u001b[0;32m    375\u001b[0m \u001b[1;33m\u001b[0m\u001b[0m\n",
      "\u001b[1;32m~\\anaconda3\\lib\\site-packages\\pandas\\core\\generic.py\u001b[0m in \u001b[0;36m_consolidate_inplace\u001b[1;34m(self)\u001b[0m\n\u001b[0;32m   5539\u001b[0m             \u001b[0mself\u001b[0m\u001b[1;33m.\u001b[0m\u001b[0m_mgr\u001b[0m \u001b[1;33m=\u001b[0m \u001b[0mself\u001b[0m\u001b[1;33m.\u001b[0m\u001b[0m_mgr\u001b[0m\u001b[1;33m.\u001b[0m\u001b[0mconsolidate\u001b[0m\u001b[1;33m(\u001b[0m\u001b[1;33m)\u001b[0m\u001b[1;33m\u001b[0m\u001b[1;33m\u001b[0m\u001b[0m\n\u001b[0;32m   5540\u001b[0m \u001b[1;33m\u001b[0m\u001b[0m\n\u001b[1;32m-> 5541\u001b[1;33m         \u001b[0mself\u001b[0m\u001b[1;33m.\u001b[0m\u001b[0m_protect_consolidate\u001b[0m\u001b[1;33m(\u001b[0m\u001b[0mf\u001b[0m\u001b[1;33m)\u001b[0m\u001b[1;33m\u001b[0m\u001b[1;33m\u001b[0m\u001b[0m\n\u001b[0m\u001b[0;32m   5542\u001b[0m \u001b[1;33m\u001b[0m\u001b[0m\n\u001b[0;32m   5543\u001b[0m     \u001b[1;33m@\u001b[0m\u001b[0mfinal\u001b[0m\u001b[1;33m\u001b[0m\u001b[1;33m\u001b[0m\u001b[0m\n",
      "\u001b[1;32m~\\anaconda3\\lib\\site-packages\\pandas\\core\\generic.py\u001b[0m in \u001b[0;36m_protect_consolidate\u001b[1;34m(self, f)\u001b[0m\n\u001b[0;32m   5527\u001b[0m         \"\"\"\n\u001b[0;32m   5528\u001b[0m         \u001b[0mblocks_before\u001b[0m \u001b[1;33m=\u001b[0m \u001b[0mlen\u001b[0m\u001b[1;33m(\u001b[0m\u001b[0mself\u001b[0m\u001b[1;33m.\u001b[0m\u001b[0m_mgr\u001b[0m\u001b[1;33m.\u001b[0m\u001b[0mblocks\u001b[0m\u001b[1;33m)\u001b[0m\u001b[1;33m\u001b[0m\u001b[1;33m\u001b[0m\u001b[0m\n\u001b[1;32m-> 5529\u001b[1;33m         \u001b[0mresult\u001b[0m \u001b[1;33m=\u001b[0m \u001b[0mf\u001b[0m\u001b[1;33m(\u001b[0m\u001b[1;33m)\u001b[0m\u001b[1;33m\u001b[0m\u001b[1;33m\u001b[0m\u001b[0m\n\u001b[0m\u001b[0;32m   5530\u001b[0m         \u001b[1;32mif\u001b[0m \u001b[0mlen\u001b[0m\u001b[1;33m(\u001b[0m\u001b[0mself\u001b[0m\u001b[1;33m.\u001b[0m\u001b[0m_mgr\u001b[0m\u001b[1;33m.\u001b[0m\u001b[0mblocks\u001b[0m\u001b[1;33m)\u001b[0m \u001b[1;33m!=\u001b[0m \u001b[0mblocks_before\u001b[0m\u001b[1;33m:\u001b[0m\u001b[1;33m\u001b[0m\u001b[1;33m\u001b[0m\u001b[0m\n\u001b[0;32m   5531\u001b[0m             \u001b[0mself\u001b[0m\u001b[1;33m.\u001b[0m\u001b[0m_clear_item_cache\u001b[0m\u001b[1;33m(\u001b[0m\u001b[1;33m)\u001b[0m\u001b[1;33m\u001b[0m\u001b[1;33m\u001b[0m\u001b[0m\n",
      "\u001b[1;32m~\\anaconda3\\lib\\site-packages\\pandas\\core\\generic.py\u001b[0m in \u001b[0;36mf\u001b[1;34m()\u001b[0m\n\u001b[0;32m   5537\u001b[0m \u001b[1;33m\u001b[0m\u001b[0m\n\u001b[0;32m   5538\u001b[0m         \u001b[1;32mdef\u001b[0m \u001b[0mf\u001b[0m\u001b[1;33m(\u001b[0m\u001b[1;33m)\u001b[0m\u001b[1;33m:\u001b[0m\u001b[1;33m\u001b[0m\u001b[1;33m\u001b[0m\u001b[0m\n\u001b[1;32m-> 5539\u001b[1;33m             \u001b[0mself\u001b[0m\u001b[1;33m.\u001b[0m\u001b[0m_mgr\u001b[0m \u001b[1;33m=\u001b[0m \u001b[0mself\u001b[0m\u001b[1;33m.\u001b[0m\u001b[0m_mgr\u001b[0m\u001b[1;33m.\u001b[0m\u001b[0mconsolidate\u001b[0m\u001b[1;33m(\u001b[0m\u001b[1;33m)\u001b[0m\u001b[1;33m\u001b[0m\u001b[1;33m\u001b[0m\u001b[0m\n\u001b[0m\u001b[0;32m   5540\u001b[0m \u001b[1;33m\u001b[0m\u001b[0m\n\u001b[0;32m   5541\u001b[0m         \u001b[0mself\u001b[0m\u001b[1;33m.\u001b[0m\u001b[0m_protect_consolidate\u001b[0m\u001b[1;33m(\u001b[0m\u001b[0mf\u001b[0m\u001b[1;33m)\u001b[0m\u001b[1;33m\u001b[0m\u001b[1;33m\u001b[0m\u001b[0m\n",
      "\u001b[1;32m~\\anaconda3\\lib\\site-packages\\pandas\\core\\internals\\managers.py\u001b[0m in \u001b[0;36mconsolidate\u001b[1;34m(self)\u001b[0m\n\u001b[0;32m    986\u001b[0m         \u001b[0mbm\u001b[0m \u001b[1;33m=\u001b[0m \u001b[0mtype\u001b[0m\u001b[1;33m(\u001b[0m\u001b[0mself\u001b[0m\u001b[1;33m)\u001b[0m\u001b[1;33m(\u001b[0m\u001b[0mself\u001b[0m\u001b[1;33m.\u001b[0m\u001b[0mblocks\u001b[0m\u001b[1;33m,\u001b[0m \u001b[0mself\u001b[0m\u001b[1;33m.\u001b[0m\u001b[0maxes\u001b[0m\u001b[1;33m)\u001b[0m\u001b[1;33m\u001b[0m\u001b[1;33m\u001b[0m\u001b[0m\n\u001b[0;32m    987\u001b[0m         \u001b[0mbm\u001b[0m\u001b[1;33m.\u001b[0m\u001b[0m_is_consolidated\u001b[0m \u001b[1;33m=\u001b[0m \u001b[1;32mFalse\u001b[0m\u001b[1;33m\u001b[0m\u001b[1;33m\u001b[0m\u001b[0m\n\u001b[1;32m--> 988\u001b[1;33m         \u001b[0mbm\u001b[0m\u001b[1;33m.\u001b[0m\u001b[0m_consolidate_inplace\u001b[0m\u001b[1;33m(\u001b[0m\u001b[1;33m)\u001b[0m\u001b[1;33m\u001b[0m\u001b[1;33m\u001b[0m\u001b[0m\n\u001b[0m\u001b[0;32m    989\u001b[0m         \u001b[1;32mreturn\u001b[0m \u001b[0mbm\u001b[0m\u001b[1;33m\u001b[0m\u001b[1;33m\u001b[0m\u001b[0m\n\u001b[0;32m    990\u001b[0m \u001b[1;33m\u001b[0m\u001b[0m\n",
      "\u001b[1;32m~\\anaconda3\\lib\\site-packages\\pandas\\core\\internals\\managers.py\u001b[0m in \u001b[0;36m_consolidate_inplace\u001b[1;34m(self)\u001b[0m\n\u001b[0;32m    991\u001b[0m     \u001b[1;32mdef\u001b[0m \u001b[0m_consolidate_inplace\u001b[0m\u001b[1;33m(\u001b[0m\u001b[0mself\u001b[0m\u001b[1;33m)\u001b[0m \u001b[1;33m->\u001b[0m \u001b[1;32mNone\u001b[0m\u001b[1;33m:\u001b[0m\u001b[1;33m\u001b[0m\u001b[1;33m\u001b[0m\u001b[0m\n\u001b[0;32m    992\u001b[0m         \u001b[1;32mif\u001b[0m \u001b[1;32mnot\u001b[0m \u001b[0mself\u001b[0m\u001b[1;33m.\u001b[0m\u001b[0mis_consolidated\u001b[0m\u001b[1;33m(\u001b[0m\u001b[1;33m)\u001b[0m\u001b[1;33m:\u001b[0m\u001b[1;33m\u001b[0m\u001b[1;33m\u001b[0m\u001b[0m\n\u001b[1;32m--> 993\u001b[1;33m             \u001b[0mself\u001b[0m\u001b[1;33m.\u001b[0m\u001b[0mblocks\u001b[0m \u001b[1;33m=\u001b[0m \u001b[0mtuple\u001b[0m\u001b[1;33m(\u001b[0m\u001b[0m_consolidate\u001b[0m\u001b[1;33m(\u001b[0m\u001b[0mself\u001b[0m\u001b[1;33m.\u001b[0m\u001b[0mblocks\u001b[0m\u001b[1;33m)\u001b[0m\u001b[1;33m)\u001b[0m\u001b[1;33m\u001b[0m\u001b[1;33m\u001b[0m\u001b[0m\n\u001b[0m\u001b[0;32m    994\u001b[0m             \u001b[0mself\u001b[0m\u001b[1;33m.\u001b[0m\u001b[0m_is_consolidated\u001b[0m \u001b[1;33m=\u001b[0m \u001b[1;32mTrue\u001b[0m\u001b[1;33m\u001b[0m\u001b[1;33m\u001b[0m\u001b[0m\n\u001b[0;32m    995\u001b[0m             \u001b[0mself\u001b[0m\u001b[1;33m.\u001b[0m\u001b[0m_known_consolidated\u001b[0m \u001b[1;33m=\u001b[0m \u001b[1;32mTrue\u001b[0m\u001b[1;33m\u001b[0m\u001b[1;33m\u001b[0m\u001b[0m\n",
      "\u001b[1;32m~\\anaconda3\\lib\\site-packages\\pandas\\core\\internals\\managers.py\u001b[0m in \u001b[0;36m_consolidate\u001b[1;34m(blocks)\u001b[0m\n\u001b[0;32m   1914\u001b[0m     \u001b[0mnew_blocks\u001b[0m\u001b[1;33m:\u001b[0m \u001b[0mList\u001b[0m\u001b[1;33m[\u001b[0m\u001b[0mBlock\u001b[0m\u001b[1;33m]\u001b[0m \u001b[1;33m=\u001b[0m \u001b[1;33m[\u001b[0m\u001b[1;33m]\u001b[0m\u001b[1;33m\u001b[0m\u001b[1;33m\u001b[0m\u001b[0m\n\u001b[0;32m   1915\u001b[0m     \u001b[1;32mfor\u001b[0m \u001b[1;33m(\u001b[0m\u001b[0m_can_consolidate\u001b[0m\u001b[1;33m,\u001b[0m \u001b[0mdtype\u001b[0m\u001b[1;33m)\u001b[0m\u001b[1;33m,\u001b[0m \u001b[0mgroup_blocks\u001b[0m \u001b[1;32min\u001b[0m \u001b[0mgrouper\u001b[0m\u001b[1;33m:\u001b[0m\u001b[1;33m\u001b[0m\u001b[1;33m\u001b[0m\u001b[0m\n\u001b[1;32m-> 1916\u001b[1;33m         merged_blocks = _merge_blocks(\n\u001b[0m\u001b[0;32m   1917\u001b[0m             \u001b[0mlist\u001b[0m\u001b[1;33m(\u001b[0m\u001b[0mgroup_blocks\u001b[0m\u001b[1;33m)\u001b[0m\u001b[1;33m,\u001b[0m \u001b[0mdtype\u001b[0m\u001b[1;33m=\u001b[0m\u001b[0mdtype\u001b[0m\u001b[1;33m,\u001b[0m \u001b[0mcan_consolidate\u001b[0m\u001b[1;33m=\u001b[0m\u001b[0m_can_consolidate\u001b[0m\u001b[1;33m\u001b[0m\u001b[1;33m\u001b[0m\u001b[0m\n\u001b[0;32m   1918\u001b[0m         )\n",
      "\u001b[1;32m~\\anaconda3\\lib\\site-packages\\pandas\\core\\internals\\managers.py\u001b[0m in \u001b[0;36m_merge_blocks\u001b[1;34m(blocks, dtype, can_consolidate)\u001b[0m\n\u001b[0;32m   1937\u001b[0m         \u001b[1;31m# combination of those slices is a slice, too.\u001b[0m\u001b[1;33m\u001b[0m\u001b[1;33m\u001b[0m\u001b[1;33m\u001b[0m\u001b[0m\n\u001b[0;32m   1938\u001b[0m         \u001b[0mnew_mgr_locs\u001b[0m \u001b[1;33m=\u001b[0m \u001b[0mnp\u001b[0m\u001b[1;33m.\u001b[0m\u001b[0mconcatenate\u001b[0m\u001b[1;33m(\u001b[0m\u001b[1;33m[\u001b[0m\u001b[0mb\u001b[0m\u001b[1;33m.\u001b[0m\u001b[0mmgr_locs\u001b[0m\u001b[1;33m.\u001b[0m\u001b[0mas_array\u001b[0m \u001b[1;32mfor\u001b[0m \u001b[0mb\u001b[0m \u001b[1;32min\u001b[0m \u001b[0mblocks\u001b[0m\u001b[1;33m]\u001b[0m\u001b[1;33m)\u001b[0m\u001b[1;33m\u001b[0m\u001b[1;33m\u001b[0m\u001b[0m\n\u001b[1;32m-> 1939\u001b[1;33m         \u001b[0mnew_values\u001b[0m \u001b[1;33m=\u001b[0m \u001b[0mnp\u001b[0m\u001b[1;33m.\u001b[0m\u001b[0mvstack\u001b[0m\u001b[1;33m(\u001b[0m\u001b[1;33m[\u001b[0m\u001b[0mb\u001b[0m\u001b[1;33m.\u001b[0m\u001b[0mvalues\u001b[0m \u001b[1;32mfor\u001b[0m \u001b[0mb\u001b[0m \u001b[1;32min\u001b[0m \u001b[0mblocks\u001b[0m\u001b[1;33m]\u001b[0m\u001b[1;33m)\u001b[0m\u001b[1;33m\u001b[0m\u001b[1;33m\u001b[0m\u001b[0m\n\u001b[0m\u001b[0;32m   1940\u001b[0m \u001b[1;33m\u001b[0m\u001b[0m\n\u001b[0;32m   1941\u001b[0m         \u001b[0margsort\u001b[0m \u001b[1;33m=\u001b[0m \u001b[0mnp\u001b[0m\u001b[1;33m.\u001b[0m\u001b[0margsort\u001b[0m\u001b[1;33m(\u001b[0m\u001b[0mnew_mgr_locs\u001b[0m\u001b[1;33m)\u001b[0m\u001b[1;33m\u001b[0m\u001b[1;33m\u001b[0m\u001b[0m\n",
      "\u001b[1;32m<__array_function__ internals>\u001b[0m in \u001b[0;36mvstack\u001b[1;34m(*args, **kwargs)\u001b[0m\n",
      "\u001b[1;32m~\\anaconda3\\lib\\site-packages\\numpy\\core\\shape_base.py\u001b[0m in \u001b[0;36mvstack\u001b[1;34m(tup)\u001b[0m\n\u001b[0;32m    281\u001b[0m     \u001b[1;32mif\u001b[0m \u001b[1;32mnot\u001b[0m \u001b[0misinstance\u001b[0m\u001b[1;33m(\u001b[0m\u001b[0marrs\u001b[0m\u001b[1;33m,\u001b[0m \u001b[0mlist\u001b[0m\u001b[1;33m)\u001b[0m\u001b[1;33m:\u001b[0m\u001b[1;33m\u001b[0m\u001b[1;33m\u001b[0m\u001b[0m\n\u001b[0;32m    282\u001b[0m         \u001b[0marrs\u001b[0m \u001b[1;33m=\u001b[0m \u001b[1;33m[\u001b[0m\u001b[0marrs\u001b[0m\u001b[1;33m]\u001b[0m\u001b[1;33m\u001b[0m\u001b[1;33m\u001b[0m\u001b[0m\n\u001b[1;32m--> 283\u001b[1;33m     \u001b[1;32mreturn\u001b[0m \u001b[0m_nx\u001b[0m\u001b[1;33m.\u001b[0m\u001b[0mconcatenate\u001b[0m\u001b[1;33m(\u001b[0m\u001b[0marrs\u001b[0m\u001b[1;33m,\u001b[0m \u001b[1;36m0\u001b[0m\u001b[1;33m)\u001b[0m\u001b[1;33m\u001b[0m\u001b[1;33m\u001b[0m\u001b[0m\n\u001b[0m\u001b[0;32m    284\u001b[0m \u001b[1;33m\u001b[0m\u001b[0m\n\u001b[0;32m    285\u001b[0m \u001b[1;33m\u001b[0m\u001b[0m\n",
      "\u001b[1;32m<__array_function__ internals>\u001b[0m in \u001b[0;36mconcatenate\u001b[1;34m(*args, **kwargs)\u001b[0m\n",
      "\u001b[1;31mKeyboardInterrupt\u001b[0m: "
     ]
    }
   ],
   "source": [
    "user_statistics = UserStatistics(df) #UserStatistics fonksiyonunu kullanarak df verisinin kullanıcı verilerini oluşturuyoruz"
   ]
  },
  {
   "cell_type": "code",
   "execution_count": 16,
   "id": "49b6264f",
   "metadata": {},
   "outputs": [
    {
     "data": {
      "text/html": [
       "<div>\n",
       "<style scoped>\n",
       "    .dataframe tbody tr th:only-of-type {\n",
       "        vertical-align: middle;\n",
       "    }\n",
       "\n",
       "    .dataframe tbody tr th {\n",
       "        vertical-align: top;\n",
       "    }\n",
       "\n",
       "    .dataframe thead th {\n",
       "        text-align: right;\n",
       "    }\n",
       "</style>\n",
       "<table border=\"1\" class=\"dataframe\">\n",
       "  <thead>\n",
       "    <tr style=\"text-align: right;\">\n",
       "      <th></th>\n",
       "      <th>zero_len</th>\n",
       "      <th>played_len</th>\n",
       "      <th>played_medyan</th>\n",
       "      <th>played_mean</th>\n",
       "      <th>played_max</th>\n",
       "      <th>played_min</th>\n",
       "      <th>user_id</th>\n",
       "    </tr>\n",
       "  </thead>\n",
       "  <tbody>\n",
       "    <tr>\n",
       "      <th>0</th>\n",
       "      <td>1</td>\n",
       "      <td>6</td>\n",
       "      <td>354.5</td>\n",
       "      <td>814.833333</td>\n",
       "      <td>2885</td>\n",
       "      <td>76</td>\n",
       "      <td>76561198258109920</td>\n",
       "    </tr>\n",
       "    <tr>\n",
       "      <th>1</th>\n",
       "      <td>215</td>\n",
       "      <td>0</td>\n",
       "      <td>NaN</td>\n",
       "      <td>NaN</td>\n",
       "      <td>NaN</td>\n",
       "      <td>NaN</td>\n",
       "      <td>76561198820816240</td>\n",
       "    </tr>\n",
       "    <tr>\n",
       "      <th>2</th>\n",
       "      <td>13</td>\n",
       "      <td>0</td>\n",
       "      <td>NaN</td>\n",
       "      <td>NaN</td>\n",
       "      <td>NaN</td>\n",
       "      <td>NaN</td>\n",
       "      <td>76561197960439456</td>\n",
       "    </tr>\n",
       "    <tr>\n",
       "      <th>3</th>\n",
       "      <td>317</td>\n",
       "      <td>0</td>\n",
       "      <td>NaN</td>\n",
       "      <td>NaN</td>\n",
       "      <td>NaN</td>\n",
       "      <td>NaN</td>\n",
       "      <td>76561198382390400</td>\n",
       "    </tr>\n",
       "    <tr>\n",
       "      <th>4</th>\n",
       "      <td>21</td>\n",
       "      <td>247</td>\n",
       "      <td>211.0</td>\n",
       "      <td>233.109312</td>\n",
       "      <td>455</td>\n",
       "      <td>140</td>\n",
       "      <td>76561198331301744</td>\n",
       "    </tr>\n",
       "    <tr>\n",
       "      <th>5</th>\n",
       "      <td>101</td>\n",
       "      <td>54</td>\n",
       "      <td>252.5</td>\n",
       "      <td>23341.259259</td>\n",
       "      <td>1245316</td>\n",
       "      <td>53</td>\n",
       "      <td>76561198165251664</td>\n",
       "    </tr>\n",
       "    <tr>\n",
       "      <th>6</th>\n",
       "      <td>31</td>\n",
       "      <td>2</td>\n",
       "      <td>2.0</td>\n",
       "      <td>2.000000</td>\n",
       "      <td>3</td>\n",
       "      <td>1</td>\n",
       "      <td>76561198390197920</td>\n",
       "    </tr>\n",
       "    <tr>\n",
       "      <th>7</th>\n",
       "      <td>80</td>\n",
       "      <td>128</td>\n",
       "      <td>211.5</td>\n",
       "      <td>2379.093750</td>\n",
       "      <td>69051</td>\n",
       "      <td>1</td>\n",
       "      <td>76561198434021952</td>\n",
       "    </tr>\n",
       "    <tr>\n",
       "      <th>8</th>\n",
       "      <td>9</td>\n",
       "      <td>50</td>\n",
       "      <td>275.5</td>\n",
       "      <td>5779.180000</td>\n",
       "      <td>143224</td>\n",
       "      <td>1</td>\n",
       "      <td>76561198317320752</td>\n",
       "    </tr>\n",
       "    <tr>\n",
       "      <th>9</th>\n",
       "      <td>31</td>\n",
       "      <td>157</td>\n",
       "      <td>99.0</td>\n",
       "      <td>2402.968153</td>\n",
       "      <td>197719</td>\n",
       "      <td>1</td>\n",
       "      <td>76561198320694240</td>\n",
       "    </tr>\n",
       "  </tbody>\n",
       "</table>\n",
       "</div>"
      ],
      "text/plain": [
       "  zero_len played_len  played_medyan   played_mean played_max played_min  \\\n",
       "0        1          6          354.5    814.833333       2885         76   \n",
       "1      215          0            NaN           NaN        NaN        NaN   \n",
       "2       13          0            NaN           NaN        NaN        NaN   \n",
       "3      317          0            NaN           NaN        NaN        NaN   \n",
       "4       21        247          211.0    233.109312        455        140   \n",
       "5      101         54          252.5  23341.259259    1245316         53   \n",
       "6       31          2            2.0      2.000000          3          1   \n",
       "7       80        128          211.5   2379.093750      69051          1   \n",
       "8        9         50          275.5   5779.180000     143224          1   \n",
       "9       31        157           99.0   2402.968153     197719          1   \n",
       "\n",
       "             user_id  \n",
       "0  76561198258109920  \n",
       "1  76561198820816240  \n",
       "2  76561197960439456  \n",
       "3  76561198382390400  \n",
       "4  76561198331301744  \n",
       "5  76561198165251664  \n",
       "6  76561198390197920  \n",
       "7  76561198434021952  \n",
       "8  76561198317320752  \n",
       "9  76561198320694240  "
      ]
     },
     "execution_count": 16,
     "metadata": {},
     "output_type": "execute_result"
    }
   ],
   "source": [
    "user_statistics.head(10)"
   ]
  },
  {
   "cell_type": "markdown",
   "id": "78062f94",
   "metadata": {},
   "source": [
    "##### User_statistics Kayıt Noktası"
   ]
  },
  {
   "cell_type": "code",
   "execution_count": 17,
   "id": "8059ae16",
   "metadata": {},
   "outputs": [],
   "source": [
    "user_statistics.to_json(r'..\\SteamData\\User_statistics.json', index = bool )"
   ]
  },
  {
   "cell_type": "code",
   "execution_count": 18,
   "id": "1f96c7a4",
   "metadata": {},
   "outputs": [
    {
     "data": {
      "text/plain": [
       "Index(['zero_len', 'played_len', 'played_medyan', 'played_mean', 'played_max',\n",
       "       'played_min', 'user_id'],\n",
       "      dtype='object')"
      ]
     },
     "execution_count": 18,
     "metadata": {},
     "output_type": "execute_result"
    }
   ],
   "source": [
    "user_statistics = pd.read_json (r'..\\SteamData\\User_statistics.json')\n",
    "user_statistics.columns"
   ]
  },
  {
   "cell_type": "markdown",
   "id": "f8c09b20",
   "metadata": {},
   "source": [
    "#### Sahip olduğu hiçbir oyunu oynamamış kullanıcıların silinmesi"
   ]
  },
  {
   "cell_type": "code",
   "execution_count": 19,
   "id": "1bc1a7a0",
   "metadata": {},
   "outputs": [
    {
     "name": "stdout",
     "output_type": "stream",
     "text": [
      "Sahip olduğu oyunların hiçbiri oynamamış kişi sayısı=  1680\n"
     ]
    },
    {
     "data": {
      "text/plain": [
       "1     76561198820816240\n",
       "2     76561197960439456\n",
       "3     76561198382390400\n",
       "19    76561198124094192\n",
       "25    76561198256946256\n",
       "Name: user_id, dtype: int64"
      ]
     },
     "execution_count": 19,
     "metadata": {},
     "output_type": "execute_result"
    }
   ],
   "source": [
    "print(\"Sahip olduğu oyunların hiçbiri oynamamış kişi sayısı= \",len(user_statistics[user_statistics.played_len == 0]))\n",
    "zero_user_id = user_statistics.user_id[user_statistics.played_len == 0]\n",
    "zero_user_id.head() #Sahip olduğu oyunların hiçbiri oynamamış kişilerin user id'leri"
   ]
  },
  {
   "cell_type": "code",
   "execution_count": 20,
   "id": "e0b92434",
   "metadata": {},
   "outputs": [],
   "source": [
    "indexler = index_list(zero_user_id) #zero_user_id listesini index_list fonksyonu ile dönüştürmek"
   ]
  },
  {
   "cell_type": "code",
   "execution_count": 21,
   "id": "358ca238",
   "metadata": {},
   "outputs": [],
   "source": [
    "#Liste indexlerine göre satırların silinmesi \n",
    "df_checkpoints = df.copy()\n",
    "df.drop(indexler, axis = 0, inplace = True)"
   ]
  },
  {
   "cell_type": "code",
   "execution_count": 22,
   "id": "97e37b37",
   "metadata": {},
   "outputs": [
    {
     "name": "stdout",
     "output_type": "stream",
     "text": [
      "*Satır sayısı checkpoints =  3670344\n",
      "*Satır sayısı =  3316888\n",
      " Silinen satır sayısı =  353456\n",
      "*Benzersiz kullanıcı sayısı checkpoints =  21127\n",
      "*Benzersiz kullanıcı sayısı =  19447\n",
      " Eksilen benzersiz kullanıcı sayısı =  1680\n"
     ]
    }
   ],
   "source": [
    "print(\"*Satır sayısı checkpoints = \",len(df_checkpoints))\n",
    "print(\"*Satır sayısı = \",len(df))\n",
    "print(\" Silinen satır sayısı = \",len(df_checkpoints) - len(df))\n",
    "print(\"*Benzersiz kullanıcı sayısı checkpoints = \",len(df_checkpoints.user.unique()))\n",
    "print(\"*Benzersiz kullanıcı sayısı = \",len(df.user.unique()))\n",
    "print(\" Eksilen benzersiz kullanıcı sayısı = \",len(df_checkpoints.user.unique()) - len(df.user.unique()))"
   ]
  },
  {
   "cell_type": "markdown",
   "id": "32e5590b",
   "metadata": {},
   "source": [
    "##### SteamGameTime_clear Kayıt Noktası"
   ]
  },
  {
   "cell_type": "code",
   "execution_count": 23,
   "id": "5fb9f756",
   "metadata": {},
   "outputs": [],
   "source": [
    "df.to_json(r'..\\SteamData\\SteamGameTime_clear.json', index = bool )"
   ]
  },
  {
   "cell_type": "code",
   "execution_count": 24,
   "id": "1de5317a",
   "metadata": {},
   "outputs": [],
   "source": [
    "df = pd.read_json (r'..\\SteamData\\SteamGameTime_clear.json')  #Bu işlemi tekrar tekrar yapmamak kodu raw yaptım direk kayıttan çekiyoruz"
   ]
  },
  {
   "cell_type": "markdown",
   "id": "dabf6320",
   "metadata": {},
   "source": [
    "#### Sahip oldukları oyun sayısı bakımından aykırı değerlerin temizlenmesi"
   ]
  },
  {
   "cell_type": "code",
   "execution_count": 25,
   "id": "4d322bbf",
   "metadata": {},
   "outputs": [
    {
     "data": {
      "image/png": "[encoded data removed]",
      "text/plain": [
       "<Figure size 432x288 with 1 Axes>"
      ]
     },
     "metadata": {
      "needs_background": "light"
     },
     "output_type": "display_data"
    }
   ],
   "source": [
    "user_statistics.played_len.plot.box();"
   ]
  },
  {
   "cell_type": "markdown",
   "id": "4ecfa91a",
   "metadata": {},
   "source": [
    "Yukarıda da görüldüğü gibi veri satinde çok sayıda aykırı gözlem bulunmakta."
   ]
  },
  {
   "cell_type": "code",
   "execution_count": 26,
   "id": "c8d433cc",
   "metadata": {},
   "outputs": [
    {
     "name": "stdout",
     "output_type": "stream",
     "text": [
      "Alt aykırı değer sınırı=  -97.0\n",
      "Üst aykırı değer sınırı=  207.0\n"
     ]
    }
   ],
   "source": [
    "Q1 = user_statistics.played_len.quantile(0.25) # 1. kartil\n",
    "Q3 = user_statistics.played_len.quantile(0.75) # 2. kartil\n",
    "IQR = Q3-Q1 # Çeyrek açıklık\n",
    "lower = Q1- 1.5*IQR #Alt sınır değeri\n",
    "upper = Q3 + 1.5*IQR #Üst sınır değeri\n",
    "print(\"Alt aykırı değer sınırı= \" ,lower)\n",
    "print(\"Üst aykırı değer sınırı= \" ,upper)"
   ]
  },
  {
   "cell_type": "code",
   "execution_count": 27,
   "id": "834b26ab",
   "metadata": {},
   "outputs": [],
   "source": [
    "id_list = user_statistics.user_id[user_statistics.played_len>upper] #Aykırı değerlerin veri seti içinde tesbit edilmesi\n",
    "indexler = index_list(id_list)"
   ]
  },
  {
   "cell_type": "code",
   "execution_count": 28,
   "id": "9ea72bef",
   "metadata": {},
   "outputs": [
    {
     "name": "stdout",
     "output_type": "stream",
     "text": [
      "*Oyun sayısı aykırı olan benzersiz kullanıcı sayısı =  1622\n",
      "*Oyun sayısı aykırı olan benzersiz kullanıcıların satır sayısı =  1551470\n"
     ]
    }
   ],
   "source": [
    "print(\"*Oyun sayısı aykırı olan benzersiz kullanıcı sayısı = \",len(id_list))\n",
    "print(\"*Oyun sayısı aykırı olan benzersiz kullanıcıların satır sayısı = \",len(indexler))"
   ]
  },
  {
   "cell_type": "code",
   "execution_count": 29,
   "id": "7742582c",
   "metadata": {},
   "outputs": [],
   "source": [
    "df_checkpoints = df.copy()\n",
    "df.drop(indexler, axis = 0, inplace = True) #Aykırı değerlerin temizlenmesi"
   ]
  },
  {
   "cell_type": "code",
   "execution_count": 30,
   "id": "196c51e2",
   "metadata": {},
   "outputs": [
    {
     "name": "stdout",
     "output_type": "stream",
     "text": [
      "*Satır sayısı checkpoints =  3316888\n",
      "*Satır sayısı =  1765418\n",
      " Silinen satır sayısı =  1551470\n",
      "*Benzersiz kullanıcı sayısı checkpoints =  19447\n",
      "*Benzersiz kullanıcı sayısı =  17825\n",
      " Eksilen benzersiz kullanıcı sayısı =  1622\n"
     ]
    }
   ],
   "source": [
    "print(\"*Satır sayısı checkpoints = \",len(df_checkpoints))\n",
    "print(\"*Satır sayısı = \",len(df))\n",
    "print(\" Silinen satır sayısı = \",len(df_checkpoints) - len(df))\n",
    "print(\"*Benzersiz kullanıcı sayısı checkpoints = \",len(df_checkpoints.user.unique()))\n",
    "print(\"*Benzersiz kullanıcı sayısı = \",len(df.user.unique()))\n",
    "print(\" Eksilen benzersiz kullanıcı sayısı = \",len(df_checkpoints.user.unique()) - len(df.user.unique()))"
   ]
  },
  {
   "cell_type": "code",
   "execution_count": 31,
   "id": "1d7e95cf",
   "metadata": {},
   "outputs": [],
   "source": [
    "user_statistics = UserStatistics(df)"
   ]
  },
  {
   "cell_type": "code",
   "execution_count": 32,
   "id": "cd0adf1e",
   "metadata": {
    "tags": []
   },
   "outputs": [
    {
     "data": {
      "image/png": "[encoded data removed]",
      "text/plain": [
       "<Figure size 432x288 with 1 Axes>"
      ]
     },
     "metadata": {
      "needs_background": "light"
     },
     "output_type": "display_data"
    }
   ],
   "source": [
    "user_statistics.played_len.plot.box();"
   ]
  },
  {
   "cell_type": "code",
   "execution_count": 33,
   "id": "b7d1d05f",
   "metadata": {},
   "outputs": [
    {
     "data": {
      "image/png": "[encoded data removed]",
      "text/plain": [
       "<Figure size 432x288 with 1 Axes>"
      ]
     },
     "metadata": {
      "needs_background": "light"
     },
     "output_type": "display_data"
    }
   ],
   "source": [
    "user_statistics.played_len.plot.hist();"
   ]
  },
  {
   "cell_type": "code",
   "execution_count": 34,
   "id": "594d6340",
   "metadata": {},
   "outputs": [
    {
     "name": "stdout",
     "output_type": "stream",
     "text": [
      "<class 'pandas.core.frame.DataFrame'>\n",
      "Int64Index: 1765418 entries, 0 to 3877975\n",
      "Data columns (total 4 columns):\n",
      " #   Column            Dtype  \n",
      "---  ------            -----  \n",
      " 0   appid             int64  \n",
      " 1   playtime_forever  int64  \n",
      " 2   user              int64  \n",
      " 3   playtime_2weeks   float64\n",
      "dtypes: float64(1), int64(3)\n",
      "memory usage: 67.3 MB\n"
     ]
    }
   ],
   "source": [
    "df.info()"
   ]
  },
  {
   "cell_type": "code",
   "execution_count": 35,
   "id": "814b8733",
   "metadata": {},
   "outputs": [],
   "source": [
    "x = df.playtime_forever[df.appid == 550]"
   ]
  },
  {
   "cell_type": "code",
   "execution_count": 36,
   "id": "09fd5ebf",
   "metadata": {},
   "outputs": [
    {
     "data": {
      "text/plain": [
       "<AxesSubplot:>"
      ]
     },
     "execution_count": 36,
     "metadata": {},
     "output_type": "execute_result"
    },
    {
     "data": {
      "image/png": "[encoded data removed]",
      "text/plain": [
       "<Figure size 432x288 with 1 Axes>"
      ]
     },
     "metadata": {
      "needs_background": "light"
     },
     "output_type": "display_data"
    }
   ],
   "source": [
    "df.playtime_forever[df.appid == 550].plot.box()"
   ]
  },
  {
   "cell_type": "markdown",
   "id": "12adcbde",
   "metadata": {},
   "source": [
    "#### Son Kayıt Noktası"
   ]
  },
  {
   "cell_type": "code",
   "execution_count": 37,
   "id": "02f8082f",
   "metadata": {},
   "outputs": [],
   "source": [
    "df.to_json(r'..\\SteamData\\SteamGameTime_clear.json', index = bool )\n",
    "user_statistics.to_json(r'..\\SteamData\\User_statistics.json', index = bool )"
   ]
  },
  {
   "cell_type": "code",
   "execution_count": 38,
   "id": "1bf531c9",
   "metadata": {},
   "outputs": [
    {
     "name": "stdout",
     "output_type": "stream",
     "text": [
      "18:10:05\n",
      "18:21:47\n"
     ]
    }
   ],
   "source": [
    "pStop = datetime.now().strftime('%H:%M:%S') \n",
    "print (pStart)\n",
    "print (pStop)"
   ]
  }
 ],
 "metadata": {
  "kernelspec": {
   "name": "python388jvsc74a57bd0d36909ee57f535aeeef2f0e399097bacd49fa987e2e1bf30310e2ea1db710be4",
   "display_name": "Python 3.8.8 64-bit ('base': conda)"
  },
  "language_info": {
   "codemirror_mode": {
    "name": "ipython",
    "version": 3
   },
   "file_extension": ".py",
   "mimetype": "text/x-python",
   "name": "python",
   "nbconvert_exporter": "python",
   "pygments_lexer": "ipython3",
   "version": "3.8.8"
  }
 },
 "nbformat": 4,
 "nbformat_minor": 5
}