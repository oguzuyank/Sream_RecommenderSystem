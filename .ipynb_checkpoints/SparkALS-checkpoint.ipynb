{
 "cells": [
  {
   "cell_type": "code",
   "execution_count": 70,
   "id": "52553f52",
   "metadata": {},
   "outputs": [],
   "source": [
    "import pandas as pd\n",
    "import scipy.sparse as sparse\n",
    "import numpy as np\n",
    "from scipy.sparse.linalg import spsolve\n",
    "import random\n",
    "import implicit\n",
    "\n",
    "import time\n",
    "from datetime import datetime\n",
    "\n",
    "pd.set_option(\"display.max_rows\", None, \"display.max_columns\", None) #Çıktı satırlarının tümünün gösterilmesini sağlar\n",
    "\n",
    "np.set_printoptions(threshold=np.inf)"
   ]
  },
  {
   "cell_type": "code",
   "execution_count": 13,
   "id": "8efd16e9",
   "metadata": {},
   "outputs": [],
   "source": [
    "def df_list (index):\n",
    "    df_list = []\n",
    "    for x in index:\n",
    "        df_keep = df[df.index == x ]\n",
    "        df_list.extend(df_keep)\n",
    "    return df_list"
   ]
  },
  {
   "cell_type": "code",
   "execution_count": 14,
   "id": "6bc293c7",
   "metadata": {},
   "outputs": [],
   "source": [
    "#User ID listesini İndex listesine dönüştürmek için forksiyon\n",
    "def index_list (user_id):\n",
    "    index_list = []\n",
    "    for user in user_id:\n",
    "        index_keep = df.index[df.user == user ]\n",
    "        index_list.extend(index_keep)\n",
    "    return index_list"
   ]
  },
  {
   "cell_type": "code",
   "execution_count": 27,
   "id": "60f0aa3d",
   "metadata": {},
   "outputs": [],
   "source": [
    "def UserStatistics (df):\n",
    "    \"\"\"\n",
    "    Oluşturduğumuz user_statistics DataFrame'ine kullancıların statisticslerini depoluyoruz\n",
    "    \"\"\"\n",
    "    user_statistics = pd.DataFrame(columns = [\"zero_len\", \n",
    "                                              \"played_len\", \n",
    "                                              \"played_medyan\", \n",
    "                                              \"played_mean\", \n",
    "                                              \"played_max\", \n",
    "                                              \"played_min\",\n",
    "                                              \"user_id\"])\n",
    "    for user in df.user.unique():\n",
    "        keep = df.playtime_forever[df.user == user ]\n",
    "        zero_len_keep = len(keep [keep==0])\n",
    "        played_len_keep = len(keep [keep!=0])\n",
    "        played_medyan_keep = keep [keep!=0].median()\n",
    "        played_mean_keep = keep [keep!=0].mean()\n",
    "        played_max_keep = keep [keep!=0].max()\n",
    "        played_min_keep = keep [keep!=0].min()\n",
    "        \n",
    "        dictionary = {\"zero_len\": zero_len_keep, \n",
    "                      \"played_len\": played_len_keep, \n",
    "                      \"played_medyan\": played_medyan_keep, \n",
    "                      \"played_mean\": played_mean_keep, \n",
    "                      \"played_max\": played_max_keep, \n",
    "                      \"played_min\": played_min_keep,\n",
    "                      \"user_id\": user} \n",
    "        df1 = pd.DataFrame(dictionary,index=[0])\n",
    "        user_statistics = pd.concat([user_statistics,df1], axis=0,ignore_index=bool)\n",
    "    return user_statistics       "
   ]
  },
  {
   "cell_type": "raw",
   "id": "45062478",
   "metadata": {},
   "source": [
    "df = pd.read_json (r'..\\SteamData\\SteamGameTime_clear.json')"
   ]
  },
  {
   "cell_type": "code",
   "execution_count": 15,
   "id": "9ff59f4a",
   "metadata": {},
   "outputs": [],
   "source": [
    "df = pd.read_json (r'..\\SteamData\\SampleSteamGameTime_clear.json')"
   ]
  },
  {
   "cell_type": "code",
   "execution_count": 16,
   "id": "60000424",
   "metadata": {},
   "outputs": [],
   "source": [
    "df = df.drop(\"playtime_2weeks\" , axis = 1) #playtime_2weeks sütununu sildim"
   ]
  },
  {
   "cell_type": "code",
   "execution_count": 17,
   "id": "f7438d28",
   "metadata": {},
   "outputs": [
    {
     "data": {
      "text/html": [
       "<div>\n",
       "<style scoped>\n",
       "    .dataframe tbody tr th:only-of-type {\n",
       "        vertical-align: middle;\n",
       "    }\n",
       "\n",
       "    .dataframe tbody tr th {\n",
       "        vertical-align: top;\n",
       "    }\n",
       "\n",
       "    .dataframe thead th {\n",
       "        text-align: right;\n",
       "    }\n",
       "</style>\n",
       "<table border=\"1\" class=\"dataframe\">\n",
       "  <thead>\n",
       "    <tr style=\"text-align: right;\">\n",
       "      <th></th>\n",
       "      <th>appid</th>\n",
       "      <th>playtime_forever</th>\n",
       "      <th>user</th>\n",
       "    </tr>\n",
       "  </thead>\n",
       "  <tbody>\n",
       "    <tr>\n",
       "      <th>820</th>\n",
       "      <td>17470</td>\n",
       "      <td>0</td>\n",
       "      <td>76561198165251664</td>\n",
       "    </tr>\n",
       "    <tr>\n",
       "      <th>821</th>\n",
       "      <td>24740</td>\n",
       "      <td>0</td>\n",
       "      <td>76561198165251664</td>\n",
       "    </tr>\n",
       "    <tr>\n",
       "      <th>822</th>\n",
       "      <td>8600</td>\n",
       "      <td>0</td>\n",
       "      <td>76561198165251664</td>\n",
       "    </tr>\n",
       "    <tr>\n",
       "      <th>823</th>\n",
       "      <td>8640</td>\n",
       "      <td>0</td>\n",
       "      <td>76561198165251664</td>\n",
       "    </tr>\n",
       "    <tr>\n",
       "      <th>824</th>\n",
       "      <td>8690</td>\n",
       "      <td>0</td>\n",
       "      <td>76561198165251664</td>\n",
       "    </tr>\n",
       "  </tbody>\n",
       "</table>\n",
       "</div>"
      ],
      "text/plain": [
       "     appid  playtime_forever               user\n",
       "820  17470                 0  76561198165251664\n",
       "821  24740                 0  76561198165251664\n",
       "822   8600                 0  76561198165251664\n",
       "823   8640                 0  76561198165251664\n",
       "824   8690                 0  76561198165251664"
      ]
     },
     "execution_count": 17,
     "metadata": {},
     "output_type": "execute_result"
    }
   ],
   "source": [
    "df.head()"
   ]
  },
  {
   "cell_type": "code",
   "execution_count": 18,
   "id": "6223c525",
   "metadata": {},
   "outputs": [],
   "source": [
    "zero_playtime_id = df.index[df.playtime_forever == 0]"
   ]
  },
  {
   "cell_type": "code",
   "execution_count": 19,
   "id": "ce26fd5d",
   "metadata": {},
   "outputs": [
    {
     "data": {
      "text/plain": [
       "328042"
      ]
     },
     "execution_count": 19,
     "metadata": {},
     "output_type": "execute_result"
    }
   ],
   "source": [
    "len(zero_playtime_id)"
   ]
  },
  {
   "cell_type": "code",
   "execution_count": 20,
   "id": "17b43e7e",
   "metadata": {},
   "outputs": [],
   "source": [
    "#Liste indexlerine göre satırların silinmesi \n",
    "df_checkpoints = df.copy()\n",
    "df.drop(zero_playtime_id, axis = 0, inplace = True)"
   ]
  },
  {
   "cell_type": "code",
   "execution_count": 21,
   "id": "2c9fb29c",
   "metadata": {},
   "outputs": [
    {
     "name": "stdout",
     "output_type": "stream",
     "text": [
      "*Satır sayısı checkpoints =  762699\n",
      "*Satır sayısı =  434657\n"
     ]
    }
   ],
   "source": [
    "print(\"*Satır sayısı checkpoints = \",len(df_checkpoints))\n",
    "print(\"*Satır sayısı = \",len(df))"
   ]
  },
  {
   "cell_type": "code",
   "execution_count": 22,
   "id": "72900b09",
   "metadata": {},
   "outputs": [
    {
     "name": "stdout",
     "output_type": "stream",
     "text": [
      "<class 'pandas.core.frame.DataFrame'>\n",
      "Int64Index: 434657 entries, 832 to 3877974\n",
      "Data columns (total 3 columns):\n",
      " #   Column            Non-Null Count   Dtype\n",
      "---  ------            --------------   -----\n",
      " 0   appid             434657 non-null  int64\n",
      " 1   playtime_forever  434657 non-null  int64\n",
      " 2   user              434657 non-null  int64\n",
      "dtypes: int64(3)\n",
      "memory usage: 13.3 MB\n"
     ]
    }
   ],
   "source": [
    "df.info()"
   ]
  },
  {
   "cell_type": "code",
   "execution_count": 23,
   "id": "68ba2618",
   "metadata": {},
   "outputs": [],
   "source": [
    "#df = pd.read_json (r'..\\SteamData\\SteamGameTime_GameClear.json')"
   ]
  },
  {
   "cell_type": "code",
   "execution_count": 24,
   "id": "60ab15e2",
   "metadata": {},
   "outputs": [],
   "source": [
    "#18 Kişiden az sayıda oyuncusu olan oyunların çıkartılması\n",
    "appid_value = df[\"appid\"].value_counts()\n",
    "df_checkpoints = df.copy()\n",
    "\n",
    "for i in appid_value.index:\n",
    "    if (appid_value[i] < 10): \n",
    "        index_keep = df.index[df.appid == i]\n",
    "        df.drop(index_keep, axis = 0, inplace = True)"
   ]
  },
  {
   "cell_type": "code",
   "execution_count": 25,
   "id": "e5510600",
   "metadata": {},
   "outputs": [
    {
     "name": "stdout",
     "output_type": "stream",
     "text": [
      "*Oyun sayısı checkpoints =  8794\n",
      "*Oyun sayısı =  2580\n",
      " Eksilen oyun sayısı =  6214\n"
     ]
    }
   ],
   "source": [
    "print(\"*Oyun sayısı checkpoints = \",len(df_checkpoints.appid.unique()))\n",
    "print(\"*Oyun sayısı = \",len(df.appid.unique()))\n",
    "print(\" Eksilen oyun sayısı = \",len(df_checkpoints.appid.unique()) - len(df.appid.unique()))"
   ]
  },
  {
   "cell_type": "code",
   "execution_count": 26,
   "id": "48d957ee",
   "metadata": {},
   "outputs": [],
   "source": [
    "df.to_json(r'..\\SteamData\\SteamGameTime_GameClear.json', index = bool )"
   ]
  },
  {
   "cell_type": "markdown",
   "id": "831efcf8",
   "metadata": {},
   "source": [
    "----------------------------------------------------------------------------------------------"
   ]
  },
  {
   "cell_type": "code",
   "execution_count": 28,
   "id": "df225bab",
   "metadata": {},
   "outputs": [],
   "source": [
    "user_statistics = UserStatistics(df)"
   ]
  },
  {
   "cell_type": "code",
   "execution_count": 29,
   "id": "6db08f36",
   "metadata": {},
   "outputs": [
    {
     "data": {
      "text/plain": [
       "3"
      ]
     },
     "execution_count": 29,
     "metadata": {},
     "output_type": "execute_result"
    }
   ],
   "source": [
    "len(user_statistics.user_id[user_statistics.played_len < 10])"
   ]
  },
  {
   "cell_type": "code",
   "execution_count": 30,
   "id": "ad49b7ec",
   "metadata": {},
   "outputs": [],
   "source": [
    "df_index = index_list(user_statistics.user_id[user_statistics.played_len < 10])"
   ]
  },
  {
   "cell_type": "code",
   "execution_count": 31,
   "id": "3bb37266",
   "metadata": {},
   "outputs": [],
   "source": [
    "df.drop(df_index, axis = 0, inplace = True)"
   ]
  },
  {
   "cell_type": "markdown",
   "id": "ed3a3484",
   "metadata": {},
   "source": [
    "--------------------------------------------------------------------------------------------------"
   ]
  },
  {
   "cell_type": "markdown",
   "id": "15a4013e",
   "metadata": {},
   "source": [
    "Tüm oyunlar varken:\n",
    "\n",
    "    <17825x13214 sparse matrix of type '<class 'numpy.intc'>'\n",
    "\twith 1019790 stored elements in Compressed Sparse Row format>\n",
    "    \n",
    "    99.5670408642625\n",
    "    \n",
    "Oyunlar n>10 olduğunda:\n",
    "\n",
    "    <17825x4625 sparse matrix of type '<class 'numpy.intc'>'\n",
    "\twith 993817 stored elements in Compressed Sparse Row format>\n",
    "    \n",
    "    98.79450574276942\n",
    "    \n",
    "Oyunlar n>18 olduğunda (0,001):\n",
    "\n",
    "    <17825x3551 sparse matrix of type '<class 'numpy.intc'>'\n",
    "\twith 978682 stored elements in Compressed Sparse Row format>\n",
    "    \n",
    "    98.45381523407862\n",
    "    \n",
    "Oyunlar n>18 olduğunda (0,001), kişiler oyun sayısı 10'dan küçük olanlar:\n",
    "\n",
    "    <15769x3551 sparse matrix of type '<class 'numpy.intc'>'\n",
    "\twith 966876 stored elements in Compressed Sparse Row format>\n",
    "    \n",
    "    98.27330371452146\n",
    "    \n",
    "Oyunlar n=>10 olduğunda (0,001), kişiler oyun sayısı 16< x <155:\n",
    "\n",
    "    <10152x2580 sparse matrix of type '<class 'numpy.intc'>'\n",
    "\twith 417469 stored elements in Compressed Sparse Row format>\n",
    "    \n",
    "    98.40612992590148"
   ]
  },
  {
   "cell_type": "code",
   "execution_count": 32,
   "id": "bf0f511f",
   "metadata": {},
   "outputs": [],
   "source": [
    "users = list(np.sort(df.user.unique())) #unique kulanıcı listesi sıralı\n",
    "appids = list(df.appid.unique()) #unique appid listesi\n",
    "playtime_forever = list(df.playtime_forever)\n",
    "#astype('category') veriyi katagorik yapıyor #.cat.codes veriye katagori veriyor #örnek 76561198258109920 = 8606 oluyor\n",
    "rows = df.user.astype('category').cat.codes \n",
    "cols = df.appid.astype('category').cat.codes \n",
    "playtime_sparse = sparse.csr_matrix((playtime_forever, (rows, cols)), shape=(len(users), len(appids)))"
   ]
  },
  {
   "cell_type": "code",
   "execution_count": 33,
   "id": "35d9f6ce",
   "metadata": {},
   "outputs": [
    {
     "data": {
      "text/plain": [
       "<10152x2580 sparse matrix of type '<class 'numpy.intc'>'\n",
       "\twith 417469 stored elements in Compressed Sparse Row format>"
      ]
     },
     "execution_count": 33,
     "metadata": {},
     "output_type": "execute_result"
    }
   ],
   "source": [
    "playtime_sparse"
   ]
  },
  {
   "cell_type": "code",
   "execution_count": 34,
   "id": "ed29de8d",
   "metadata": {},
   "outputs": [
    {
     "data": {
      "text/plain": [
       "98.40612992590148"
      ]
     },
     "execution_count": 34,
     "metadata": {},
     "output_type": "execute_result"
    }
   ],
   "source": [
    "matrix_size = playtime_sparse.shape[0]*playtime_sparse.shape[1] # Number of possible interactions in the matrix\n",
    "num_purchases = len(playtime_sparse.nonzero()[0]) # Number of items interacted with\n",
    "sparsity = 100*(1 - (num_purchases/matrix_size))\n",
    "sparsity"
   ]
  },
  {
   "cell_type": "code",
   "execution_count": 41,
   "id": "f295143c",
   "metadata": {},
   "outputs": [],
   "source": [
    "def make_train(ratings, pct_test = 0.2):\n",
    "    '''\n",
    "    Bu işlev, orijinal kullanıcı öğesi matrisini alacak ve orijinal derecelendirmelerin bir yüzdesini \"maskeleyecektir\"; \n",
    "    bir test seti olarak kullanılmak üzere kullanıcı-öğe etkileşimi gerçekleşmiştir. Test seti tüm orijinal derecelendirmeleri \n",
    "    içerecektir, eğitim seti ise orijinal derecelendirme matrisinde belirtilen yüzdesini sıfır ile değiştirir.\n",
    "    \n",
    "    parameters: \n",
    "    \n",
    "    ratings - bir tren / test seti oluşturmak istediğiniz orijinal derecelendirme matrisi. Test sadece tamamlandı \n",
    "              orijinal setin kopyası. Bu seyrek bir csr_matrix biçimindedir.\n",
    "    \n",
    "    pct_test - Maskelemek istediğiniz bir etkileşimin gerçekleştiği kullanıcı-öğe etkileşimlerinin yüzdesi \n",
    "               Tüm orijinal derecelendirmeleri içeren test setiyle daha sonra karşılaştırmak için eğitim seti.\n",
    "    \n",
    "    returns:\n",
    "    \n",
    "    training_set - Kullanıcı-öğe çiftlerinin belirli bir yüzdesine sahip orijinal verilerin değiştirilmiş \n",
    "                    versiyonu başlangıçta etkileşimi sıfıra ayarlanmış.\n",
    "    \n",
    "    test_set - Orijinal derecelendirme matrisinin bir kopyası, değiştirilmemiştir, böylece sıralama \n",
    "                sırasının nasıl olduğunu görmek için kullanılabilir gerçek etkileşimlerle karşılaştırır.\n",
    "    \n",
    "    user_inds - Rastgele seçilen kullanıcı öğesi endekslerinden, eğitim verilerinde hangi kullanıcı satırlarının \n",
    "                değiştirildiği. Bu, performansı AUC aracılığıyla değerlendirirken daha sonra gerekli olacaktır.\n",
    "    '''\n",
    "    \n",
    "    \n",
    "    test_set = ratings.copy() # Test seti olarak orijinal setin bir kopyasını alın. \n",
    "    test_set[test_set != 0] = 1 # Test setini ikili tercih matrisi olarak saklayın\n",
    "    training_set = ratings.copy() # Eğitim setimiz olarak değiştirebileceğimiz orijinal verilerin bir kopyasını alın. \n",
    "    nonzero_inds = training_set.nonzero() # Sıfır olmayanların indislerini 2 array olarak döndürür\n",
    "    nonzero_pairs = list(zip(nonzero_inds[0], nonzero_inds[1])) # Kullanıcı çiftlerini bir araya sıkıştırın, öğe dizinini listeye alın\n",
    "    random.seed(0) # Tekrarlanabilirlik için rastgele tohumu sıfıra ayarlayın\n",
    "    num_samples = int(np.ceil(pct_test*len(nonzero_pairs))) # Gerekli örnek sayısını en yakın tam sayıya yuvarlayın\n",
    "    samples = random.sample(nonzero_pairs, num_samples) # Sample a random number of user-item pairs without replacement\n",
    "    user_inds = [index[0] for index in samples] # Get the user row indices\n",
    "    item_inds = [index[1] for index in samples] # Get the item column indices\n",
    "    training_set[user_inds, item_inds] = 0 # Assign all of the randomly chosen user-item pairs to zero\n",
    "    training_set.eliminate_zeros() # Get rid of zeros in sparse array storage after update to save space\n",
    "    return training_set, test_set, list(set(user_inds)) # Output the unique list of user rows that were altered"
   ]
  },
  {
   "cell_type": "code",
   "execution_count": 43,
   "id": "b5d3db56",
   "metadata": {},
   "outputs": [],
   "source": [
    "product_train, product_test, product_users_altered = make_train(playtime_sparse, pct_test = 0.2)"
   ]
  },
  {
   "cell_type": "code",
   "execution_count": 44,
   "id": "cfdb9cdf",
   "metadata": {},
   "outputs": [
    {
     "data": {
      "text/plain": [
       "<10152x2580 sparse matrix of type '<class 'numpy.intc'>'\n",
       "\twith 333975 stored elements in Compressed Sparse Row format>"
      ]
     },
     "execution_count": 44,
     "metadata": {},
     "output_type": "execute_result"
    }
   ],
   "source": [
    "product_train"
   ]
  },
  {
   "cell_type": "code",
   "execution_count": 46,
   "id": "99b6c620",
   "metadata": {},
   "outputs": [
    {
     "data": {
      "text/plain": [
       "98.40612992590148"
      ]
     },
     "execution_count": 46,
     "metadata": {},
     "output_type": "execute_result"
    }
   ],
   "source": [
    "matrix_size = product_test.shape[0]*product_test.shape[1] # Number of possible interactions in the matrix\n",
    "num_purchases = len(product_test.nonzero()[0]) # Number of items interacted with\n",
    "sparsity = 100*(1 - (num_purchases/matrix_size))\n",
    "sparsity"
   ]
  },
  {
   "cell_type": "code",
   "execution_count": 47,
   "id": "cbf53011",
   "metadata": {},
   "outputs": [
    {
     "data": {
      "text/plain": [
       "<10152x2580 sparse matrix of type '<class 'numpy.intc'>'\n",
       "\twith 417469 stored elements in Compressed Sparse Row format>"
      ]
     },
     "execution_count": 47,
     "metadata": {},
     "output_type": "execute_result"
    }
   ],
   "source": [
    "product_test"
   ]
  },
  {
   "cell_type": "code",
   "execution_count": 48,
   "id": "d2009952",
   "metadata": {},
   "outputs": [],
   "source": [
    "def implicit_weighted_ALS(training_set, lambda_val = 0.1, alpha = 40, iterations = 10, rank_size = 20, seed = 0):\n",
    "    '''\n",
    "    Implicit weighted ALS taken from Hu, Koren, and Volinsky 2008. Designed for alternating least squares and implicit\n",
    "    feedback based collaborative filtering. \n",
    "    \n",
    "    parameters:\n",
    "    \n",
    "    training_set - Our matrix of ratings with shape m x n, where m is the number of users and n is the number of items.\n",
    "    Should be a sparse csr matrix to save space. \n",
    "    \n",
    "    lambda_val - Used for regularization during alternating least squares. Increasing this value may increase bias\n",
    "    but decrease variance. Default is 0.1. \n",
    "    \n",
    "    alpha - The parameter associated with the confidence matrix discussed in the paper, where Cui = 1 + alpha*Rui. \n",
    "    The paper found a default of 40 most effective. Decreasing this will decrease the variability in confidence between\n",
    "    various ratings.\n",
    "    \n",
    "    iterations - The number of times to alternate between both user feature vector and item feature vector in\n",
    "    alternating least squares. More iterations will allow better convergence at the cost of increased computation. \n",
    "    The authors found 10 iterations was sufficient, but more may be required to converge. \n",
    "    \n",
    "    rank_size - The number of latent features in the user/item feature vectors. The paper recommends varying this \n",
    "    between 20-200. Increasing the number of features may overfit but could reduce bias. \n",
    "    \n",
    "    seed - Set the seed for reproducible results\n",
    "    \n",
    "    returns:\n",
    "    \n",
    "    The feature vectors for users and items. The dot product of these feature vectors should give you the expected \n",
    "    \"rating\" at each point in your original matrix. \n",
    "    '''\n",
    "    \n",
    "    # first set up our confidence matrix\n",
    "    \n",
    "    conf = (alpha*training_set) # To allow the matrix to stay sparse, I will add one later when each row is taken \n",
    "                                # and converted to dense. \n",
    "    num_user = conf.shape[0]\n",
    "    num_item = conf.shape[1] # Get the size of our original ratings matrix, m x n\n",
    "    \n",
    "    # initialize our X/Y feature vectors randomly with a set seed\n",
    "    rstate = np.random.RandomState(seed)\n",
    "    \n",
    "    X = sparse.csr_matrix(rstate.normal(size = (num_user, rank_size))) # Random numbers in a m x rank shape\n",
    "    Y = sparse.csr_matrix(rstate.normal(size = (num_item, rank_size))) # Normally this would be rank x n but we can \n",
    "                                                                 # transpose at the end. Makes calculation more simple.\n",
    "    X_eye = sparse.eye(num_user)\n",
    "    Y_eye = sparse.eye(num_item)\n",
    "    lambda_eye = lambda_val * sparse.eye(rank_size) # Our regularization term lambda*I. \n",
    "    \n",
    "    # We can compute this before iteration starts. \n",
    "    \n",
    "    # Begin iterations\n",
    "   \n",
    "    for iter_step in range(iterations): # Iterate back and forth between solving X given fixed Y and vice versa\n",
    "        # Compute yTy and xTx at beginning of each iteration to save computing time\n",
    "        yTy = Y.T.dot(Y)\n",
    "        xTx = X.T.dot(X)\n",
    "        # Being iteration to solve for X based on fixed Y\n",
    "        for u in range(num_user):\n",
    "            conf_samp = conf[u,:].toarray() # Grab user row from confidence matrix and convert to dense\n",
    "            pref = conf_samp.copy() \n",
    "            pref[pref != 0] = 1 # Create binarized preference vector \n",
    "            CuI = sparse.diags(conf_samp, [0]) # Get Cu - I term, which is just CuI since we never added 1\n",
    "            yTCuIY = Y.T.dot(CuI).dot(Y) # This is the yT(Cu-I)Y term \n",
    "            yTCupu = Y.T.dot(CuI + Y_eye).dot(pref.T) # This is the yTCuPu term, where we add the eye back in\n",
    "                                                      # Cu - I + I = Cu\n",
    "            X[u] = spsolve(yTy + yTCuIY + lambda_eye, yTCupu) \n",
    "            # Solve for Xu = ((yTy + yT(Cu-I)Y + lambda*I)^-1)yTCuPu, equation 4 from the paper  \n",
    "        # Begin iteration to solve for Y based on fixed X \n",
    "        for i in range(num_item):\n",
    "            conf_samp = conf[:,i].T.toarray() # transpose to get it in row format and convert to dense\n",
    "            pref = conf_samp.copy()\n",
    "            pref[pref != 0] = 1 # Create binarized preference vector\n",
    "            CiI = sparse.diags(conf_samp, [0]) # Get Ci - I term, which is just CiI since we never added 1\n",
    "            xTCiIX = X.T.dot(CiI).dot(X) # This is the xT(Cu-I)X term\n",
    "            xTCiPi = X.T.dot(CiI + X_eye).dot(pref.T) # This is the xTCiPi term\n",
    "            Y[i] = spsolve(xTx + xTCiIX + lambda_eye, xTCiPi)\n",
    "            # Solve for Yi = ((xTx + xT(Cu-I)X) + lambda*I)^-1)xTCiPi, equation 5 from the paper\n",
    "    # End iterations\n",
    "    return X, Y.T # Transpose at the end to make up for not being transposed at the beginning. \n",
    "                         # Y needs to be rank x n. Keep these as separate matrices for scale reasons. "
   ]
  },
  {
   "cell_type": "code",
   "execution_count": 71,
   "id": "afc07c19",
   "metadata": {},
   "outputs": [],
   "source": [
    "pStart = datetime.now().strftime('%H:%M:%S') \n",
    "user_vecs, item_vecs = implicit_weighted_ALS(product_train, lambda_val = 0.1, alpha = 15, iterations = 50,\n",
    "                                            rank_size = 20)\n",
    "pStop = datetime.now().strftime('%H:%M:%S') "
   ]
  },
  {
   "cell_type": "code",
   "execution_count": 53,
   "id": "665c7ec4",
   "metadata": {},
   "outputs": [
    {
     "data": {
      "text/plain": [
       "array([1.00374482, 0.99722839, 1.00265284, 1.00035042, 0.9920458 ])"
      ]
     },
     "execution_count": 53,
     "metadata": {},
     "output_type": "execute_result"
    }
   ],
   "source": [
    "user_vecs[0,:].dot(item_vecs).toarray()[0,:5]"
   ]
  },
  {
   "cell_type": "code",
   "execution_count": 72,
   "id": "f01bff41",
   "metadata": {},
   "outputs": [
    {
     "name": "stdout",
     "output_type": "stream",
     "text": [
      "00:04:59\n",
      "00:49:41\n"
     ]
    }
   ],
   "source": [
    "print (pStart)\n",
    "print (pStop)"
   ]
  },
  {
   "cell_type": "code",
   "execution_count": 63,
   "id": "8cce2928",
   "metadata": {},
   "outputs": [],
   "source": [
    "user_vecs=1\n",
    "item_vecs=1"
   ]
  },
  {
   "cell_type": "code",
   "execution_count": 88,
   "id": "f8cbb692",
   "metadata": {},
   "outputs": [],
   "source": [
    "pStart = datetime.now().strftime('%H:%M:%S:%S') "
   ]
  },
  {
   "cell_type": "code",
   "execution_count": 89,
   "id": "369628d1",
   "metadata": {},
   "outputs": [
    {
     "name": "stderr",
     "output_type": "stream",
     "text": [
      "WARNING:implicit:This method is deprecated. Please use the AlternatingLeastSquares class instead\n"
     ]
    },
    {
     "data": {
      "application/vnd.jupyter.widget-view+json": {
       "model_id": "bea4c77efee64c38bd139d442b8091c0",
       "version_major": 2,
       "version_minor": 0
      },
      "text/plain": [
       "  0%|          | 0/100 [00:00<?, ?it/s]"
      ]
     },
     "metadata": {},
     "output_type": "display_data"
    }
   ],
   "source": [
    "alpha = 15\n",
    "user_vecs, item_vecs = implicit.alternating_least_squares((product_train*alpha).astype('double'), \n",
    "                                                           factors=20, \n",
    "                                                           regularization = 0.1, \n",
    "                                                           iterations = 100)"
   ]
  },
  {
   "cell_type": "code",
   "execution_count": 90,
   "id": "04aaacdc",
   "metadata": {},
   "outputs": [],
   "source": [
    "pStop = datetime.now().strftime('%H:%M:%S:%S') "
   ]
  },
  {
   "cell_type": "code",
   "execution_count": 91,
   "id": "1df8dfab",
   "metadata": {},
   "outputs": [
    {
     "name": "stdout",
     "output_type": "stream",
     "text": [
      "01:01:18:18\n",
      "01:01:24:24\n"
     ]
    }
   ],
   "source": [
    "print (pStart)\n",
    "print (pStop)"
   ]
  },
  {
   "cell_type": "code",
   "execution_count": 59,
   "id": "02a81224",
   "metadata": {},
   "outputs": [
    {
     "ename": "ValueError",
     "evalue": "shapes (20,) and (2580,20) not aligned: 20 (dim 0) != 2580 (dim 0)",
     "output_type": "error",
     "traceback": [
      "\u001b[1;31m---------------------------------------------------------------------------\u001b[0m",
      "\u001b[1;31mValueError\u001b[0m                                Traceback (most recent call last)",
      "\u001b[1;32m<ipython-input-59-44052d1fbd8b>\u001b[0m in \u001b[0;36m<module>\u001b[1;34m\u001b[0m\n\u001b[1;32m----> 1\u001b[1;33m \u001b[0muser_vecs\u001b[0m\u001b[1;33m[\u001b[0m\u001b[1;36m0\u001b[0m\u001b[1;33m,\u001b[0m\u001b[1;33m:\u001b[0m\u001b[1;33m]\u001b[0m\u001b[1;33m.\u001b[0m\u001b[0mdot\u001b[0m\u001b[1;33m(\u001b[0m\u001b[0mitem_vecs\u001b[0m\u001b[1;33m)\u001b[0m\u001b[1;33m.\u001b[0m\u001b[0mtoarray\u001b[0m\u001b[1;33m(\u001b[0m\u001b[1;33m)\u001b[0m\u001b[1;33m[\u001b[0m\u001b[1;36m0\u001b[0m\u001b[1;33m,\u001b[0m\u001b[1;33m:\u001b[0m\u001b[1;36m5\u001b[0m\u001b[1;33m]\u001b[0m\u001b[1;33m\u001b[0m\u001b[1;33m\u001b[0m\u001b[0m\n\u001b[0m",
      "\u001b[1;31mValueError\u001b[0m: shapes (20,) and (2580,20) not aligned: 20 (dim 0) != 2580 (dim 0)"
     ]
    }
   ],
   "source": [
    "user_vecs[0,:].dot(item_vecs).toarray()[0,:5]"
   ]
  },
  {
   "cell_type": "code",
   "execution_count": 67,
   "id": "4a4a8449",
   "metadata": {},
   "outputs": [
    {
     "data": {
      "text/plain": [
       "<10152x20 sparse matrix of type '<class 'numpy.float64'>'\n",
       "\twith 203040 stored elements in Compressed Sparse Row format>"
      ]
     },
     "execution_count": 67,
     "metadata": {},
     "output_type": "execute_result"
    }
   ],
   "source": [
    "user_vecs"
   ]
  },
  {
   "cell_type": "code",
   "execution_count": 68,
   "id": "ec335f16",
   "metadata": {},
   "outputs": [
    {
     "data": {
      "text/plain": [
       "<20x2580 sparse matrix of type '<class 'numpy.float64'>'\n",
       "\twith 51600 stored elements in Compressed Sparse Column format>"
      ]
     },
     "execution_count": 68,
     "metadata": {},
     "output_type": "execute_result"
    }
   ],
   "source": [
    "item_vecs"
   ]
  },
  {
   "cell_type": "code",
   "execution_count": null,
   "id": "68eb3e5a",
   "metadata": {},
   "outputs": [],
   "source": []
  },
  {
   "cell_type": "code",
   "execution_count": null,
   "id": "311bc955",
   "metadata": {},
   "outputs": [],
   "source": []
  }
 ],
 "metadata": {
  "kernelspec": {
   "display_name": "Python 3",
   "language": "python",
   "name": "python3"
  },
  "language_info": {
   "codemirror_mode": {
    "name": "ipython",
    "version": 3
   },
   "file_extension": ".py",
   "mimetype": "text/x-python",
   "name": "python",
   "nbconvert_exporter": "python",
   "pygments_lexer": "ipython3",
   "version": "3.8.8"
  }
 },
 "nbformat": 4,
 "nbformat_minor": 5
}
