{
 "cells": [
  {
   "cell_type": "code",
   "execution_count": 39,
   "id": "52553f52",
   "metadata": {},
   "outputs": [],
   "source": [
    "import pandas as pd\n",
    "import scipy.sparse as sparse\n",
    "import numpy as np\n",
    "from scipy.sparse.linalg import spsolve\n",
    "import random\n",
    "import implicit\n",
    "from sklearn import metrics\n",
    "\n",
    "import time\n",
    "from datetime import datetime\n",
    "\n",
    "pd.set_option(\"display.max_rows\", None, \"display.max_columns\", None) #Çıktı satırlarının tümünün gösterilmesini sağlar\n",
    "\n",
    "np.set_printoptions(threshold=np.inf)"
   ]
  },
  {
   "cell_type": "code",
   "execution_count": 2,
   "id": "8efd16e9",
   "metadata": {},
   "outputs": [],
   "source": [
    "def df_list (index):\n",
    "    df_list = []\n",
    "    for x in index:\n",
    "        df_keep = df[df.index == x ]\n",
    "        df_list.extend(df_keep)\n",
    "    return df_list"
   ]
  },
  {
   "cell_type": "code",
   "execution_count": 3,
   "id": "6bc293c7",
   "metadata": {},
   "outputs": [],
   "source": [
    "#User ID listesini İndex listesine dönüştürmek için forksiyon\n",
    "def index_list (user_id):\n",
    "    index_list = []\n",
    "    for user in user_id:\n",
    "        index_keep = df.index[df.user == user ]\n",
    "        index_list.extend(index_keep)\n",
    "    return index_list"
   ]
  },
  {
   "cell_type": "code",
   "execution_count": 4,
   "id": "60f0aa3d",
   "metadata": {},
   "outputs": [],
   "source": [
    "def UserStatistics (df):\n",
    "    \"\"\"\n",
    "    Oluşturduğumuz user_statistics DataFrame'ine kullancıların statisticslerini depoluyoruz\n",
    "    \"\"\"\n",
    "    user_statistics = pd.DataFrame(columns = [\"zero_len\", \n",
    "                                              \"played_len\", \n",
    "                                              \"played_medyan\", \n",
    "                                              \"played_mean\", \n",
    "                                              \"played_max\", \n",
    "                                              \"played_min\",\n",
    "                                              \"user_id\"])\n",
    "    for user in df.user.unique():\n",
    "        keep = df.playtime_forever[df.user == user ]\n",
    "        zero_len_keep = len(keep [keep==0])\n",
    "        played_len_keep = len(keep [keep!=0])\n",
    "        played_medyan_keep = keep [keep!=0].median()\n",
    "        played_mean_keep = keep [keep!=0].mean()\n",
    "        played_max_keep = keep [keep!=0].max()\n",
    "        played_min_keep = keep [keep!=0].min()\n",
    "        \n",
    "        dictionary = {\"zero_len\": zero_len_keep, \n",
    "                      \"played_len\": played_len_keep, \n",
    "                      \"played_medyan\": played_medyan_keep, \n",
    "                      \"played_mean\": played_mean_keep, \n",
    "                      \"played_max\": played_max_keep, \n",
    "                      \"played_min\": played_min_keep,\n",
    "                      \"user_id\": user} \n",
    "        df1 = pd.DataFrame(dictionary,index=[0])\n",
    "        user_statistics = pd.concat([user_statistics,df1], axis=0,ignore_index=bool)\n",
    "    return user_statistics       "
   ]
  },
  {
   "cell_type": "code",
   "execution_count": 5,
   "id": "41b195f6",
   "metadata": {},
   "outputs": [],
   "source": [
    "df = pd.read_json (r'..\\SteamData\\SteamGameTime_clear.json')"
   ]
  },
  {
   "cell_type": "raw",
   "id": "039aaec3",
   "metadata": {},
   "source": [
    "df = pd.read_json (r'..\\SteamData\\SampleSteamGameTime_clear.json')"
   ]
  },
  {
   "cell_type": "code",
   "execution_count": 6,
   "id": "60000424",
   "metadata": {},
   "outputs": [],
   "source": [
    "df = df.drop(\"playtime_2weeks\" , axis = 1) #playtime_2weeks sütununu sildim"
   ]
  },
  {
   "cell_type": "code",
   "execution_count": 7,
   "id": "f7438d28",
   "metadata": {},
   "outputs": [
    {
     "data": {
      "text/html": [
       "<div>\n",
       "<style scoped>\n",
       "    .dataframe tbody tr th:only-of-type {\n",
       "        vertical-align: middle;\n",
       "    }\n",
       "\n",
       "    .dataframe tbody tr th {\n",
       "        vertical-align: top;\n",
       "    }\n",
       "\n",
       "    .dataframe thead th {\n",
       "        text-align: right;\n",
       "    }\n",
       "</style>\n",
       "<table border=\"1\" class=\"dataframe\">\n",
       "  <thead>\n",
       "    <tr style=\"text-align: right;\">\n",
       "      <th></th>\n",
       "      <th>appid</th>\n",
       "      <th>playtime_forever</th>\n",
       "      <th>user</th>\n",
       "    </tr>\n",
       "  </thead>\n",
       "  <tbody>\n",
       "    <tr>\n",
       "      <th>0</th>\n",
       "      <td>620</td>\n",
       "      <td>76</td>\n",
       "      <td>76561198258109920</td>\n",
       "    </tr>\n",
       "    <tr>\n",
       "      <th>1</th>\n",
       "      <td>261550</td>\n",
       "      <td>2885</td>\n",
       "      <td>76561198258109920</td>\n",
       "    </tr>\n",
       "    <tr>\n",
       "      <th>2</th>\n",
       "      <td>255710</td>\n",
       "      <td>1061</td>\n",
       "      <td>76561198258109920</td>\n",
       "    </tr>\n",
       "    <tr>\n",
       "      <th>3</th>\n",
       "      <td>381210</td>\n",
       "      <td>498</td>\n",
       "      <td>76561198258109920</td>\n",
       "    </tr>\n",
       "    <tr>\n",
       "      <th>4</th>\n",
       "      <td>289070</td>\n",
       "      <td>211</td>\n",
       "      <td>76561198258109920</td>\n",
       "    </tr>\n",
       "  </tbody>\n",
       "</table>\n",
       "</div>"
      ],
      "text/plain": [
       "    appid  playtime_forever               user\n",
       "0     620                76  76561198258109920\n",
       "1  261550              2885  76561198258109920\n",
       "2  255710              1061  76561198258109920\n",
       "3  381210               498  76561198258109920\n",
       "4  289070               211  76561198258109920"
      ]
     },
     "execution_count": 7,
     "metadata": {},
     "output_type": "execute_result"
    }
   ],
   "source": [
    "df.head()"
   ]
  },
  {
   "cell_type": "code",
   "execution_count": 8,
   "id": "6223c525",
   "metadata": {},
   "outputs": [],
   "source": [
    "zero_playtime_id = df.index[df.playtime_forever == 0]"
   ]
  },
  {
   "cell_type": "code",
   "execution_count": 9,
   "id": "ce26fd5d",
   "metadata": {},
   "outputs": [
    {
     "data": {
      "text/plain": [
       "1809050"
      ]
     },
     "execution_count": 9,
     "metadata": {},
     "output_type": "execute_result"
    }
   ],
   "source": [
    "len(zero_playtime_id)"
   ]
  },
  {
   "cell_type": "code",
   "execution_count": 10,
   "id": "17b43e7e",
   "metadata": {},
   "outputs": [],
   "source": [
    "#Liste indexlerine göre satırların silinmesi \n",
    "df_checkpoints = df.copy()\n",
    "df.drop(zero_playtime_id, axis = 0, inplace = True)"
   ]
  },
  {
   "cell_type": "code",
   "execution_count": 11,
   "id": "2c9fb29c",
   "metadata": {},
   "outputs": [
    {
     "name": "stdout",
     "output_type": "stream",
     "text": [
      "*Satır sayısı checkpoints =  3670344\n",
      "*Satır sayısı =  1861294\n"
     ]
    }
   ],
   "source": [
    "print(\"*Satır sayısı checkpoints = \",len(df_checkpoints))\n",
    "print(\"*Satır sayısı = \",len(df))"
   ]
  },
  {
   "cell_type": "code",
   "execution_count": 12,
   "id": "72900b09",
   "metadata": {},
   "outputs": [
    {
     "name": "stdout",
     "output_type": "stream",
     "text": [
      "<class 'pandas.core.frame.DataFrame'>\n",
      "Int64Index: 1861294 entries, 0 to 3877974\n",
      "Data columns (total 3 columns):\n",
      " #   Column            Dtype\n",
      "---  ------            -----\n",
      " 0   appid             int64\n",
      " 1   playtime_forever  int64\n",
      " 2   user              int64\n",
      "dtypes: int64(3)\n",
      "memory usage: 56.8 MB\n"
     ]
    }
   ],
   "source": [
    "df.info()"
   ]
  },
  {
   "cell_type": "code",
   "execution_count": 13,
   "id": "68ba2618",
   "metadata": {},
   "outputs": [],
   "source": [
    "#df = pd.read_json (r'..\\SteamData\\SteamGameTime_GameClear.json')"
   ]
  },
  {
   "cell_type": "code",
   "execution_count": 16,
   "id": "60ab15e2",
   "metadata": {},
   "outputs": [],
   "source": [
    "#18 Kişiden az sayıda oyuncusu olan oyunların çıkartılması\n",
    "appid_value = df[\"appid\"].value_counts()\n",
    "df_checkpoints = df.copy()\n",
    "\n",
    "for i in appid_value.index:\n",
    "    if (appid_value[i] < 10): \n",
    "        index_keep = df.index[df.appid == i]\n",
    "        df.drop(index_keep, axis = 0, inplace = True)"
   ]
  },
  {
   "cell_type": "code",
   "execution_count": 17,
   "id": "e5510600",
   "metadata": {},
   "outputs": [
    {
     "name": "stdout",
     "output_type": "stream",
     "text": [
      "*Oyun sayısı checkpoints =  12563\n",
      "*Oyun sayısı =  10708\n",
      " Eksilen oyun sayısı =  1855\n"
     ]
    }
   ],
   "source": [
    "print(\"*Oyun sayısı checkpoints = \",len(df_checkpoints.appid.unique()))\n",
    "print(\"*Oyun sayısı = \",len(df.appid.unique()))\n",
    "print(\" Eksilen oyun sayısı = \",len(df_checkpoints.appid.unique()) - len(df.appid.unique()))"
   ]
  },
  {
   "cell_type": "code",
   "execution_count": null,
   "id": "48d957ee",
   "metadata": {},
   "outputs": [],
   "source": [
    "df.to_json(r'..\\SteamData\\SteamGameTime_GameClear.json', index = bool )"
   ]
  },
  {
   "cell_type": "markdown",
   "id": "831efcf8",
   "metadata": {},
   "source": [
    "----------------------------------------------------------------------------------------------"
   ]
  },
  {
   "cell_type": "code",
   "execution_count": 18,
   "id": "df225bab",
   "metadata": {},
   "outputs": [],
   "source": [
    "user_statistics = UserStatistics(df)"
   ]
  },
  {
   "cell_type": "code",
   "execution_count": 19,
   "id": "6db08f36",
   "metadata": {},
   "outputs": [
    {
     "data": {
      "text/plain": [
       "1860"
      ]
     },
     "execution_count": 19,
     "metadata": {},
     "output_type": "execute_result"
    }
   ],
   "source": [
    "len(user_statistics.user_id[user_statistics.played_len < 10])"
   ]
  },
  {
   "cell_type": "code",
   "execution_count": 20,
   "id": "ad49b7ec",
   "metadata": {},
   "outputs": [],
   "source": [
    "df_index = index_list(user_statistics.user_id[user_statistics.played_len < 10])"
   ]
  },
  {
   "cell_type": "code",
   "execution_count": 21,
   "id": "3bb37266",
   "metadata": {},
   "outputs": [],
   "source": [
    "df.drop(df_index, axis = 0, inplace = True)"
   ]
  },
  {
   "cell_type": "markdown",
   "id": "ed3a3484",
   "metadata": {},
   "source": [
    "--------------------------------------------------------------------------------------------------"
   ]
  },
  {
   "cell_type": "markdown",
   "id": "15a4013e",
   "metadata": {},
   "source": [
    "Tüm oyunlar varken:\n",
    "\n",
    "    <17825x13214 sparse matrix of type '<class 'numpy.intc'>'\n",
    "\twith 1019790 stored elements in Compressed Sparse Row format>\n",
    "    \n",
    "    99.5670408642625\n",
    "    \n",
    "Oyunlar n>10 olduğunda:\n",
    "\n",
    "    <17825x4625 sparse matrix of type '<class 'numpy.intc'>'\n",
    "\twith 993817 stored elements in Compressed Sparse Row format>\n",
    "    \n",
    "    98.79450574276942\n",
    "    \n",
    "Oyunlar n>18 olduğunda (0,001):\n",
    "\n",
    "    <17825x3551 sparse matrix of type '<class 'numpy.intc'>'\n",
    "\twith 978682 stored elements in Compressed Sparse Row format>\n",
    "    \n",
    "    98.45381523407862\n",
    "    \n",
    "Oyunlar n>18 olduğunda (0,001), kişiler oyun sayısı 10'dan küçük olanlar:\n",
    "\n",
    "    <15769x3551 sparse matrix of type '<class 'numpy.intc'>'\n",
    "\twith 966876 stored elements in Compressed Sparse Row format>\n",
    "    \n",
    "    98.27330371452146\n",
    "    \n",
    "Oyunlar n=>10 olduğunda (0,001), kişiler oyun sayısı 16< x <155:\n",
    "\n",
    "    <10152x2580 sparse matrix of type '<class 'numpy.intc'>'\n",
    "\twith 417469 stored elements in Compressed Sparse Row format>\n",
    "    \n",
    "    98.40612992590148"
   ]
  },
  {
   "cell_type": "code",
   "execution_count": 22,
   "id": "bf0f511f",
   "metadata": {},
   "outputs": [],
   "source": [
    "users = list(np.sort(df.user.unique())) #unique kulanıcı listesi sıralı\n",
    "appids = list(df.appid.unique()) #unique appid listesi\n",
    "playtime_forever = list(df.playtime_forever)\n",
    "#astype('category') veriyi katagorik yapıyor #.cat.codes veriye katagori veriyor #örnek 76561198258109920 = 8606 oluyor\n",
    "rows = df.user.astype('category').cat.codes \n",
    "cols = df.appid.astype('category').cat.codes \n",
    "playtime_sparse = sparse.csr_matrix((playtime_forever, (rows, cols)), shape=(len(users), len(appids)))"
   ]
  },
  {
   "cell_type": "code",
   "execution_count": 23,
   "id": "35d9f6ce",
   "metadata": {},
   "outputs": [
    {
     "data": {
      "text/plain": [
       "<17587x10708 sparse matrix of type '<class 'numpy.intc'>'\n",
       "\twith 1818060 stored elements in Compressed Sparse Row format>"
      ]
     },
     "execution_count": 23,
     "metadata": {},
     "output_type": "execute_result"
    }
   ],
   "source": [
    "playtime_sparse"
   ]
  },
  {
   "cell_type": "code",
   "execution_count": 24,
   "id": "ed29de8d",
   "metadata": {},
   "outputs": [
    {
     "data": {
      "text/plain": [
       "99.03459824119163"
      ]
     },
     "execution_count": 24,
     "metadata": {},
     "output_type": "execute_result"
    }
   ],
   "source": [
    "matrix_size = playtime_sparse.shape[0]*playtime_sparse.shape[1] # Number of possible interactions in the matrix\n",
    "num_purchases = len(playtime_sparse.nonzero()[0]) # Number of items interacted with\n",
    "sparsity = 100*(1 - (num_purchases/matrix_size))\n",
    "sparsity"
   ]
  },
  {
   "cell_type": "code",
   "execution_count": 25,
   "id": "f295143c",
   "metadata": {},
   "outputs": [],
   "source": [
    "def make_train(ratings, pct_test = 0.2):\n",
    "    '''\n",
    "    Bu işlev, orijinal kullanıcı öğesi matrisini alacak ve orijinal derecelendirmelerin bir yüzdesini \"maskeleyecektir\"; \n",
    "    bir test seti olarak kullanılmak üzere kullanıcı-öğe etkileşimi gerçekleşmiştir. Test seti tüm orijinal derecelendirmeleri \n",
    "    içerecektir, eğitim seti ise orijinal derecelendirme matrisinde belirtilen yüzdesini sıfır ile değiştirir.\n",
    "    \n",
    "    parameters: \n",
    "    \n",
    "    ratings - bir tren / test seti oluşturmak istediğiniz orijinal derecelendirme matrisi. Test sadece tamamlandı \n",
    "              orijinal setin kopyası. Bu seyrek bir csr_matrix biçimindedir.\n",
    "    \n",
    "    pct_test - Maskelemek istediğiniz bir etkileşimin gerçekleştiği kullanıcı-öğe etkileşimlerinin yüzdesi \n",
    "               Tüm orijinal derecelendirmeleri içeren test setiyle daha sonra karşılaştırmak için eğitim seti.\n",
    "    \n",
    "    returns:\n",
    "    \n",
    "    training_set - Kullanıcı-öğe çiftlerinin belirli bir yüzdesine sahip orijinal verilerin değiştirilmiş \n",
    "                    versiyonu başlangıçta etkileşimi sıfıra ayarlanmış.\n",
    "    \n",
    "    test_set - Orijinal derecelendirme matrisinin bir kopyası, değiştirilmemiştir, böylece sıralama \n",
    "                sırasının nasıl olduğunu görmek için kullanılabilir gerçek etkileşimlerle karşılaştırır.\n",
    "    \n",
    "    user_inds - Rastgele seçilen kullanıcı öğesi endekslerinden, eğitim verilerinde hangi kullanıcı satırlarının \n",
    "                değiştirildiği. Bu, performansı AUC aracılığıyla değerlendirirken daha sonra gerekli olacaktır.\n",
    "    '''\n",
    "    \n",
    "    \n",
    "    test_set = ratings.copy() # Test seti olarak orijinal setin bir kopyasını alın. \n",
    "    test_set[test_set != 0] = 1 # Test setini ikili tercih matrisi olarak saklayın\n",
    "    training_set = ratings.copy() # Eğitim setimiz olarak değiştirebileceğimiz orijinal verilerin bir kopyasını alın. \n",
    "    nonzero_inds = training_set.nonzero() # Sıfır olmayanların indislerini 2 array olarak döndürür\n",
    "    nonzero_pairs = list(zip(nonzero_inds[0], nonzero_inds[1])) # Kullanıcı çiftlerini bir araya sıkıştırın, öğe dizinini listeye alın\n",
    "    random.seed(0) # Tekrarlanabilirlik için rastgele tohumu sıfıra ayarlayın\n",
    "    num_samples = int(np.ceil(pct_test*len(nonzero_pairs))) # Gerekli örnek sayısını en yakın tam sayıya yuvarlayın\n",
    "    samples = random.sample(nonzero_pairs, num_samples) # Sample a random number of user-item pairs without replacement\n",
    "    user_inds = [index[0] for index in samples] # Get the user row indices\n",
    "    item_inds = [index[1] for index in samples] # Get the item column indices\n",
    "    training_set[user_inds, item_inds] = 0 # Assign all of the randomly chosen user-item pairs to zero\n",
    "    training_set.eliminate_zeros() # Get rid of zeros in sparse array storage after update to save space\n",
    "    return training_set, test_set, list(set(user_inds)) # Output the unique list of user rows that were altered"
   ]
  },
  {
   "cell_type": "code",
   "execution_count": 26,
   "id": "b5d3db56",
   "metadata": {},
   "outputs": [],
   "source": [
    "product_train, product_test, product_users_altered = make_train(playtime_sparse, pct_test = 0.2)"
   ]
  },
  {
   "cell_type": "code",
   "execution_count": 27,
   "id": "cfdb9cdf",
   "metadata": {},
   "outputs": [
    {
     "data": {
      "text/plain": [
       "<17587x10708 sparse matrix of type '<class 'numpy.intc'>'\n",
       "\twith 1454448 stored elements in Compressed Sparse Row format>"
      ]
     },
     "execution_count": 27,
     "metadata": {},
     "output_type": "execute_result"
    }
   ],
   "source": [
    "product_train"
   ]
  },
  {
   "cell_type": "code",
   "execution_count": 28,
   "id": "99b6c620",
   "metadata": {},
   "outputs": [
    {
     "data": {
      "text/plain": [
       "99.03459824119163"
      ]
     },
     "execution_count": 28,
     "metadata": {},
     "output_type": "execute_result"
    }
   ],
   "source": [
    "matrix_size = product_test.shape[0]*product_test.shape[1] # Number of possible interactions in the matrix\n",
    "num_purchases = len(product_test.nonzero()[0]) # Number of items interacted with\n",
    "sparsity = 100*(1 - (num_purchases/matrix_size))\n",
    "sparsity"
   ]
  },
  {
   "cell_type": "code",
   "execution_count": 29,
   "id": "cbf53011",
   "metadata": {},
   "outputs": [
    {
     "data": {
      "text/plain": [
       "<17587x10708 sparse matrix of type '<class 'numpy.intc'>'\n",
       "\twith 1818060 stored elements in Compressed Sparse Row format>"
      ]
     },
     "execution_count": 29,
     "metadata": {},
     "output_type": "execute_result"
    }
   ],
   "source": [
    "product_test"
   ]
  },
  {
   "cell_type": "code",
   "execution_count": 30,
   "id": "d2009952",
   "metadata": {},
   "outputs": [],
   "source": [
    "def implicit_weighted_ALS(training_set, lambda_val = 0.1, alpha = 40, iterations = 10, rank_size = 20, seed = 0):\n",
    "    '''\n",
    "    Implicit weighted ALS taken from Hu, Koren, and Volinsky 2008. Designed for alternating least squares and implicit\n",
    "    feedback based collaborative filtering. \n",
    "    \n",
    "    parameters:\n",
    "    \n",
    "    training_set - Our matrix of ratings with shape m x n, where m is the number of users and n is the number of items.\n",
    "    Should be a sparse csr matrix to save space. \n",
    "    \n",
    "    lambda_val - Used for regularization during alternating least squares. Increasing this value may increase bias\n",
    "    but decrease variance. Default is 0.1. \n",
    "    \n",
    "    alpha - The parameter associated with the confidence matrix discussed in the paper, where Cui = 1 + alpha*Rui. \n",
    "    The paper found a default of 40 most effective. Decreasing this will decrease the variability in confidence between\n",
    "    various ratings.\n",
    "    \n",
    "    iterations - The number of times to alternate between both user feature vector and item feature vector in\n",
    "    alternating least squares. More iterations will allow better convergence at the cost of increased computation. \n",
    "    The authors found 10 iterations was sufficient, but more may be required to converge. \n",
    "    \n",
    "    rank_size - The number of latent features in the user/item feature vectors. The paper recommends varying this \n",
    "    between 20-200. Increasing the number of features may overfit but could reduce bias. \n",
    "    \n",
    "    seed - Set the seed for reproducible results\n",
    "    \n",
    "    returns:\n",
    "    \n",
    "    The feature vectors for users and items. The dot product of these feature vectors should give you the expected \n",
    "    \"rating\" at each point in your original matrix. \n",
    "    '''\n",
    "    \n",
    "    # first set up our confidence matrix\n",
    "    \n",
    "    conf = (alpha*training_set) # To allow the matrix to stay sparse, I will add one later when each row is taken \n",
    "                                # and converted to dense. \n",
    "    num_user = conf.shape[0]\n",
    "    num_item = conf.shape[1] # Get the size of our original ratings matrix, m x n\n",
    "    \n",
    "    # initialize our X/Y feature vectors randomly with a set seed\n",
    "    rstate = np.random.RandomState(seed)\n",
    "    \n",
    "    X = sparse.csr_matrix(rstate.normal(size = (num_user, rank_size))) # Random numbers in a m x rank shape\n",
    "    Y = sparse.csr_matrix(rstate.normal(size = (num_item, rank_size))) # Normally this would be rank x n but we can \n",
    "                                                                 # transpose at the end. Makes calculation more simple.\n",
    "    X_eye = sparse.eye(num_user)\n",
    "    Y_eye = sparse.eye(num_item)\n",
    "    lambda_eye = lambda_val * sparse.eye(rank_size) # Our regularization term lambda*I. \n",
    "    \n",
    "    # We can compute this before iteration starts. \n",
    "    \n",
    "    # Begin iterations\n",
    "   \n",
    "    for iter_step in range(iterations): # Iterate back and forth between solving X given fixed Y and vice versa\n",
    "        # Compute yTy and xTx at beginning of each iteration to save computing time\n",
    "        yTy = Y.T.dot(Y)\n",
    "        xTx = X.T.dot(X)\n",
    "        # Being iteration to solve for X based on fixed Y\n",
    "        for u in range(num_user):\n",
    "            conf_samp = conf[u,:].toarray() # Grab user row from confidence matrix and convert to dense\n",
    "            pref = conf_samp.copy() \n",
    "            pref[pref != 0] = 1 # Create binarized preference vector \n",
    "            CuI = sparse.diags(conf_samp, [0]) # Get Cu - I term, which is just CuI since we never added 1\n",
    "            yTCuIY = Y.T.dot(CuI).dot(Y) # This is the yT(Cu-I)Y term \n",
    "            yTCupu = Y.T.dot(CuI + Y_eye).dot(pref.T) # This is the yTCuPu term, where we add the eye back in\n",
    "                                                      # Cu - I + I = Cu\n",
    "            X[u] = spsolve(yTy + yTCuIY + lambda_eye, yTCupu) \n",
    "            # Solve for Xu = ((yTy + yT(Cu-I)Y + lambda*I)^-1)yTCuPu, equation 4 from the paper  \n",
    "        # Begin iteration to solve for Y based on fixed X \n",
    "        for i in range(num_item):\n",
    "            conf_samp = conf[:,i].T.toarray() # transpose to get it in row format and convert to dense\n",
    "            pref = conf_samp.copy()\n",
    "            pref[pref != 0] = 1 # Create binarized preference vector\n",
    "            CiI = sparse.diags(conf_samp, [0]) # Get Ci - I term, which is just CiI since we never added 1\n",
    "            xTCiIX = X.T.dot(CiI).dot(X) # This is the xT(Cu-I)X term\n",
    "            xTCiPi = X.T.dot(CiI + X_eye).dot(pref.T) # This is the xTCiPi term\n",
    "            Y[i] = spsolve(xTx + xTCiIX + lambda_eye, xTCiPi)\n",
    "            # Solve for Yi = ((xTx + xT(Cu-I)X) + lambda*I)^-1)xTCiPi, equation 5 from the paper\n",
    "    # End iterations\n",
    "    return X, Y.T # Transpose at the end to make up for not being transposed at the beginning. \n",
    "                         # Y needs to be rank x n. Keep these as separate matrices for scale reasons. "
   ]
  },
  {
   "cell_type": "raw",
   "id": "04a40925",
   "metadata": {},
   "source": [
    "user_vecs, item_vecs = implicit_weighted_ALS(product_train, lambda_val = 0.1, \n",
    "                                             alpha = 15, iterations = 1,\n",
    "                                             rank_size = 20)"
   ]
  },
  {
   "cell_type": "code",
   "execution_count": 32,
   "id": "665c7ec4",
   "metadata": {},
   "outputs": [
    {
     "data": {
      "text/plain": [
       "array([ 0.39198789, -0.14730541,  0.29968934, -0.17627896, -0.29869201])"
      ]
     },
     "execution_count": 32,
     "metadata": {},
     "output_type": "execute_result"
    }
   ],
   "source": [
    "user_vecs[0,:].dot(item_vecs).toarray()[0,:5]"
   ]
  },
  {
   "cell_type": "code",
   "execution_count": 46,
   "id": "8cce2928",
   "metadata": {},
   "outputs": [],
   "source": [
    "user_vecs=1\n",
    "item_vecs=1"
   ]
  },
  {
   "cell_type": "code",
   "execution_count": 47,
   "id": "528d475b",
   "metadata": {},
   "outputs": [
    {
     "name": "stderr",
     "output_type": "stream",
     "text": [
      "WARNING:implicit:This method is deprecated. Please use the AlternatingLeastSquares class instead\n"
     ]
    },
    {
     "data": {
      "application/vnd.jupyter.widget-view+json": {
       "model_id": "bf5cf604ecf543ce942e3cbe4e42f134",
       "version_major": 2,
       "version_minor": 0
      },
      "text/plain": [
       "  0%|          | 0/100 [00:00<?, ?it/s]"
      ]
     },
     "metadata": {},
     "output_type": "display_data"
    }
   ],
   "source": [
    "alpha = 15\n",
    "user_vecs, item_vecs = implicit.alternating_least_squares((product_train*alpha).astype('double'), \n",
    "                                                          factors=20, \n",
    "                                                          regularization = 0.1, \n",
    "                                                         iterations = 100)"
   ]
  },
  {
   "cell_type": "code",
   "execution_count": 49,
   "id": "d1c9cfeb",
   "metadata": {},
   "outputs": [
    {
     "data": {
      "application/vnd.jupyter.widget-view+json": {
       "model_id": "bcc473d3e83d408f9be24918cd64bee2",
       "version_major": 2,
       "version_minor": 0
      },
      "text/plain": [
       "  0%|          | 0/50 [00:00<?, ?it/s]"
      ]
     },
     "metadata": {},
     "output_type": "display_data"
    }
   ],
   "source": [
    "model = implicit.als.AlternatingLeastSquares(factors=20, regularization=0.1, iterations=50)\n",
    "alpha_val = 15\n",
    "data_conf = (product_train*alpha).astype('double')\n",
    "model.fit(data_conf)"
   ]
  },
  {
   "cell_type": "code",
   "execution_count": 40,
   "id": "68eb3e5a",
   "metadata": {},
   "outputs": [],
   "source": [
    "def auc_score(predictions, test):\n",
    "    '''\n",
    "    Bu basit fonksiyon, sklearn ölçümlerini kullanarak eğrinin altındaki alanı çıkaracaktır.\n",
    "    \n",
    "    parameters:\n",
    "    \n",
    "    - predictions: tahmin çıktınız\n",
    "    \n",
    "    - test: karşılaştırdığınız gerçek hedef sonuç\n",
    "    \n",
    "    returns:\n",
    "    \n",
    "    - AUC (Alıcı Çalışma Karakteristik eğrisinin altındaki alan)\n",
    "    '''\n",
    "    fpr, tpr, thresholds = metrics.roc_curve(test, predictions)\n",
    "    return metrics.auc(fpr, tpr)   "
   ]
  },
  {
   "cell_type": "code",
   "execution_count": 41,
   "id": "54dfedc1",
   "metadata": {},
   "outputs": [],
   "source": [
    "def calc_mean_auc(training_set, altered_users, predictions, test_set):\n",
    "    '''\n",
    "    Bu işlev, kullanıcı öğesi matrisi değiştirilen herhangi bir kullanıcı \n",
    "    için kullanıcı tarafından ortalama AUC'yi hesaplayacaktır.\n",
    "    \n",
    "    parameters:\n",
    "    \n",
    "    training_set - Make_train'den ortaya çıkan eğitim seti, burada orijinalin belirli bir yüzdesi modelden gizlemek \n",
    "                   için kullanıcı / öğe etkileşimleri sıfırlanır \n",
    "    \n",
    "    predictions - Örtük MF'den çıktı olarak her kullanıcı / öğe çifti için tahmin ettiğiniz derecelendirmelerinizin matrisi. \n",
    "                  Bunlar, kullanıcı vektörleri sıfır öğesi ve öğe vektörleri birinci öğe olacak şekilde bir listede \n",
    "                  saklanmalıdır. \n",
    "    \n",
    "    altered_users - Make_train işlevinden en az bir kullanıcı / öğe çiftinin değiştirildiği kullanıcıların indisleri\n",
    "    \n",
    "    test_set - Make_train fonksiyonundan daha önce oluşturulmuş test seti\n",
    "    \n",
    "    \n",
    "    \n",
    "    returns:\n",
    "    \n",
    "    Test setinin ortalama AUC'si (Alıcı Operatör Karakteristik eğrisinin altındaki alan) yalnızca kullanıcı-öğe \n",
    "    etkileşimlerinde karşılaştırma ölçütü olarak en popüler öğelere ek olarak sıralama yeteneğini test etmek için \n",
    "    başlangıçta sıfır vardı.\n",
    "    '''\n",
    "    \n",
    "    \n",
    "    store_auc = [] # Eğitim setinden bir öğe kaldırılan her kullanıcı için AUC'yi depolamak için boş bir liste\n",
    "    popularity_auc = [] # Popüler AUC puanlarını saklamak için\n",
    "    pop_items = np.array(test_set.sum(axis = 0)).reshape(-1) # En popüler olanları bulmak için öğe yinelemelerinin toplamını alın\n",
    "    item_vecs = predictions[1]\n",
    "    for user in altered_users: # Değiştirilmiş bir öğeye sahip her bir kullanıcıyı yineleyin\n",
    "        training_row = training_set[user,:].toarray().reshape(-1) # Eğitim seti satırını alın\n",
    "        zero_inds = np.where(training_row == 0) # Etkileşimin henüz gerçekleşmediği yerleri bulun\n",
    "        # Kullanıcı / ürün vektörlerimize göre tahmin edilen değerleri alın\n",
    "        user_vec = predictions[0][user,:]\n",
    "        pred = user_vec.dot(item_vecs).toarray()[0,zero_inds].reshape(-1)\n",
    "        # Yalnızca başlangıçta sıfır olan öğeleri alın\n",
    "        # Orijinalde yineleme olmayan bu kullanıcı için MF tahmininden tüm derecelendirmeleri seçin\n",
    "        actual = test_set[user,:].toarray()[0,zero_inds].reshape(-1) \n",
    "        # Orijinal tam verilerden ikilileştirilmiş evet / hayır etkileşim çiftlerini seçin\n",
    "        # eğitimde aynı çiftlerle hizalanan\n",
    "        pop = pop_items[zero_inds] # Seçtiğimiz ürünler için ürün popülaritesini öğrenin\n",
    "        store_auc.append(auc_score(pred, actual)) # Verilen kullanıcı ve mağaza için AUC'yi hesaplayın\n",
    "        popularity_auc.append(auc_score(pop, actual)) # AUC'yi en popüler kullanarak hesaplayın ve puanlayın\n",
    "    # Son kullanıcıların yinelemesi\n",
    "    \n",
    "    return float('%.3f'%np.mean(store_auc)), float('%.3f'%np.mean(popularity_auc))  \n",
    "   # Hem test hem de popülerlik karşılaştırması için ortalama AUC'yi üç ondalık basamağa yuvarlayarak döndürün"
   ]
  },
  {
   "cell_type": "code",
   "execution_count": 48,
   "id": "3557ffe8",
   "metadata": {},
   "outputs": [
    {
     "data": {
      "text/plain": [
       "(0.941, 0.938)"
      ]
     },
     "execution_count": 48,
     "metadata": {},
     "output_type": "execute_result"
    }
   ],
   "source": [
    "calc_mean_auc(product_train, product_users_altered, \n",
    "              [sparse.csr_matrix(user_vecs), sparse.csr_matrix(item_vecs.T)], product_test)\n",
    "# AUC for our recommender system"
   ]
  },
  {
   "cell_type": "code",
   "execution_count": null,
   "id": "ee1e42c6",
   "metadata": {},
   "outputs": [],
   "source": []
  },
  {
   "cell_type": "code",
   "execution_count": null,
   "id": "34df37ab",
   "metadata": {},
   "outputs": [],
   "source": []
  },
  {
   "cell_type": "code",
   "execution_count": null,
   "id": "f44fa9f8",
   "metadata": {},
   "outputs": [],
   "source": []
  },
  {
   "cell_type": "code",
   "execution_count": null,
   "id": "6cb72931",
   "metadata": {},
   "outputs": [],
   "source": []
  },
  {
   "cell_type": "code",
   "execution_count": null,
   "id": "3db5f57d",
   "metadata": {},
   "outputs": [],
   "source": []
  },
  {
   "cell_type": "code",
   "execution_count": null,
   "id": "d27c336f",
   "metadata": {},
   "outputs": [],
   "source": []
  },
  {
   "cell_type": "code",
   "execution_count": null,
   "id": "aae8cb91",
   "metadata": {},
   "outputs": [],
   "source": []
  },
  {
   "cell_type": "code",
   "execution_count": null,
   "id": "c3dfbf3e",
   "metadata": {},
   "outputs": [],
   "source": []
  },
  {
   "cell_type": "code",
   "execution_count": null,
   "id": "28612c5f",
   "metadata": {},
   "outputs": [],
   "source": []
  },
  {
   "cell_type": "code",
   "execution_count": null,
   "id": "311bc955",
   "metadata": {},
   "outputs": [],
   "source": []
  }
 ],
 "metadata": {
  "kernelspec": {
   "display_name": "Python 3",
   "language": "python",
   "name": "python3"
  },
  "language_info": {
   "codemirror_mode": {
    "name": "ipython",
    "version": 3
   },
   "file_extension": ".py",
   "mimetype": "text/x-python",
   "name": "python",
   "nbconvert_exporter": "python",
   "pygments_lexer": "ipython3",
   "version": "3.8.8"
  }
 },
 "nbformat": 4,
 "nbformat_minor": 5
}
